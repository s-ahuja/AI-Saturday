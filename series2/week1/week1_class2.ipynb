{
 "cells": [
  {
   "cell_type": "markdown",
   "metadata": {},
   "source": [
    "## paperspace\n",
    "## tmux - multiple screens\n",
    "## tensor = array"
   ]
  },
  {
   "cell_type": "code",
   "execution_count": null,
   "metadata": {},
   "outputs": [],
   "source": [
    "## nomenclature\n",
    "# error/loss = target - calculated"
   ]
  },
  {
   "cell_type": "code",
   "execution_count": 2,
   "metadata": {},
   "outputs": [],
   "source": [
    "# non linear - activation functions"
   ]
  },
  {
   "cell_type": "markdown",
   "metadata": {},
   "source": [
    "# Slide 24, Slide 25 of neuralNetwork.pptx"
   ]
  },
  {
   "cell_type": "code",
   "execution_count": 49,
   "metadata": {},
   "outputs": [],
   "source": [
    "import numpy as np"
   ]
  },
  {
   "cell_type": "code",
   "execution_count": 50,
   "metadata": {},
   "outputs": [
    {
     "name": "stdout",
     "output_type": "stream",
     "text": [
      "[[0.71  0.112]\n",
      " [0.355 0.856]\n",
      " [0.268 0.468]]\n",
      "[1 1]\n"
     ]
    }
   ],
   "source": [
    "#Slide 25\n",
    "weights_1 = np.array([[0.71,0.112],[0.355,0.856],[0.268,0.468]])\n",
    "x = np.array([1,1])\n",
    "print(weights)\n",
    "print(x)"
   ]
  },
  {
   "cell_type": "code",
   "execution_count": 51,
   "metadata": {},
   "outputs": [
    {
     "name": "stdout",
     "output_type": "stream",
     "text": [
      "[0.822 1.211 0.736]\n"
     ]
    }
   ],
   "source": [
    "y_linear_1 = np.dot(weights,x)\n",
    "print(y_linear_1)"
   ]
  },
  {
   "cell_type": "code",
   "execution_count": 52,
   "metadata": {},
   "outputs": [],
   "source": [
    "import math\n",
    "def sigmoid(x):\n",
    "    return 1 / (1 + math.exp(-x))\n",
    "fn_sigmoid = np.vectorize(sigmoid)"
   ]
  },
  {
   "cell_type": "code",
   "execution_count": 53,
   "metadata": {},
   "outputs": [
    {
     "name": "stdout",
     "output_type": "stream",
     "text": [
      "[0.69466072 0.77047584 0.67612055]\n"
     ]
    }
   ],
   "source": [
    "y_nonlinear_1 = fn_sigmoid(y_linear_1)\n",
    "print(y_nonlinear_1)"
   ]
  },
  {
   "cell_type": "code",
   "execution_count": 54,
   "metadata": {},
   "outputs": [],
   "source": [
    "weights2 = np.array([0.116,0.329,0.708]) # 1x3"
   ]
  },
  {
   "cell_type": "code",
   "execution_count": 55,
   "metadata": {},
   "outputs": [
    {
     "name": "stdout",
     "output_type": "stream",
     "text": [
      "0.8127605425998854\n"
     ]
    }
   ],
   "source": [
    "y_linear_2 = np.dot(weights2,y_nonlinear_1)\n",
    "print(y_linear_2)"
   ]
  },
  {
   "cell_type": "code",
   "execution_count": 56,
   "metadata": {},
   "outputs": [
    {
     "name": "stdout",
     "output_type": "stream",
     "text": [
      "0.6926974470214398\n"
     ]
    }
   ],
   "source": [
    "y_nonlinear_2 = fn_sigmoid(y_linear_2)\n",
    "print(y_nonlinear_2)"
   ]
  },
  {
   "cell_type": "markdown",
   "metadata": {},
   "source": [
    "# Slide 26"
   ]
  },
  {
   "cell_type": "code",
   "execution_count": 64,
   "metadata": {},
   "outputs": [
    {
     "name": "stdout",
     "output_type": "stream",
     "text": [
      "0.6926974470214398\n"
     ]
    }
   ],
   "source": [
    "import math\n",
    "\n",
    "weights_list = []\n",
    "weights_list.append(np.array([[0.71,0.112],[0.355,0.856],[0.268,0.468]]))\n",
    "weights_list.append(np.array([0.116,0.329,0.708]))\n",
    "input_x = np.array([1,1])\n",
    "\n",
    "def sigmoid(x):\n",
    "    return 1 / (1 + math.exp(-x))\n",
    "\n",
    "fn_sigmoid = np.vectorize(sigmoid)\n",
    "\n",
    "def calc(weight,x):\n",
    "    y_linear = np.dot(weight,x)\n",
    "    y_nonlinear = fn_sigmoid(y_linear)\n",
    "    return y_nonlinear\n",
    "\n",
    "for weight in weights_list:\n",
    "    y = calc(weight,input_x)\n",
    "    input_x = y\n",
    "\n",
    "print (y)"
   ]
  },
  {
   "cell_type": "code",
   "execution_count": null,
   "metadata": {},
   "outputs": [],
   "source": []
  }
 ],
 "metadata": {
  "kernelspec": {
   "display_name": "Python 3",
   "language": "python",
   "name": "python3"
  },
  "language_info": {
   "codemirror_mode": {
    "name": "ipython",
    "version": 3
   },
   "file_extension": ".py",
   "mimetype": "text/x-python",
   "name": "python",
   "nbconvert_exporter": "python",
   "pygments_lexer": "ipython3",
   "version": "3.6.5"
  }
 },
 "nbformat": 4,
 "nbformat_minor": 2
}
