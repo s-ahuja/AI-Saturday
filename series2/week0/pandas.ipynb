{
 "cells": [
  {
   "cell_type": "code",
   "execution_count": 3,
   "metadata": {},
   "outputs": [
    {
     "name": "stdout",
     "output_type": "stream",
     "text": [
      "(0, 0)\n"
     ]
    }
   ],
   "source": [
    "import pandas as pd\n",
    "df = pd.DataFrame()\n",
    "print (df.shape)"
   ]
  },
  {
   "cell_type": "code",
   "execution_count": 4,
   "metadata": {},
   "outputs": [
    {
     "data": {
      "text/html": [
       "<div>\n",
       "<style scoped>\n",
       "    .dataframe tbody tr th:only-of-type {\n",
       "        vertical-align: middle;\n",
       "    }\n",
       "\n",
       "    .dataframe tbody tr th {\n",
       "        vertical-align: top;\n",
       "    }\n",
       "\n",
       "    .dataframe thead th {\n",
       "        text-align: right;\n",
       "    }\n",
       "</style>\n",
       "<table border=\"1\" class=\"dataframe\">\n",
       "  <thead>\n",
       "    <tr style=\"text-align: right;\">\n",
       "      <th></th>\n",
       "      <th>column1</th>\n",
       "    </tr>\n",
       "  </thead>\n",
       "  <tbody>\n",
       "    <tr>\n",
       "      <th>0</th>\n",
       "      <td>1</td>\n",
       "    </tr>\n",
       "    <tr>\n",
       "      <th>1</th>\n",
       "      <td>2</td>\n",
       "    </tr>\n",
       "    <tr>\n",
       "      <th>2</th>\n",
       "      <td>5</td>\n",
       "    </tr>\n",
       "  </tbody>\n",
       "</table>\n",
       "</div>"
      ],
      "text/plain": [
       "   column1\n",
       "0        1\n",
       "1        2\n",
       "2        5"
      ]
     },
     "execution_count": 4,
     "metadata": {},
     "output_type": "execute_result"
    }
   ],
   "source": [
    "# assign a list to a dataframe column\n",
    "list = [1,2,5]\n",
    "df[\"column1\"] = pd.Series(list).values\n",
    "df"
   ]
  },
  {
   "cell_type": "code",
   "execution_count": 5,
   "metadata": {},
   "outputs": [
    {
     "data": {
      "text/html": [
       "<div>\n",
       "<style scoped>\n",
       "    .dataframe tbody tr th:only-of-type {\n",
       "        vertical-align: middle;\n",
       "    }\n",
       "\n",
       "    .dataframe tbody tr th {\n",
       "        vertical-align: top;\n",
       "    }\n",
       "\n",
       "    .dataframe thead th {\n",
       "        text-align: right;\n",
       "    }\n",
       "</style>\n",
       "<table border=\"1\" class=\"dataframe\">\n",
       "  <thead>\n",
       "    <tr style=\"text-align: right;\">\n",
       "      <th></th>\n",
       "      <th>name</th>\n",
       "      <th>age</th>\n",
       "    </tr>\n",
       "  </thead>\n",
       "  <tbody>\n",
       "    <tr>\n",
       "      <th>0</th>\n",
       "      <td>A</td>\n",
       "      <td>10</td>\n",
       "    </tr>\n",
       "    <tr>\n",
       "      <th>1</th>\n",
       "      <td>B</td>\n",
       "      <td>15</td>\n",
       "    </tr>\n",
       "    <tr>\n",
       "      <th>2</th>\n",
       "      <td>C</td>\n",
       "      <td>21</td>\n",
       "    </tr>\n",
       "  </tbody>\n",
       "</table>\n",
       "</div>"
      ],
      "text/plain": [
       "  name  age\n",
       "0    A   10\n",
       "1    B   15\n",
       "2    C   21"
      ]
     },
     "execution_count": 5,
     "metadata": {},
     "output_type": "execute_result"
    }
   ],
   "source": [
    "# instantiate dataframe from a dictionary object\n",
    "dict = {}\n",
    "dict[\"name\"]=[\"A\",\"B\",\"C\"]\n",
    "dict[\"age\"]=[10,15,21]\n",
    "df = pd.DataFrame(dict)\n",
    "df"
   ]
  },
  {
   "cell_type": "code",
   "execution_count": 6,
   "metadata": {},
   "outputs": [],
   "source": [
    "# export dataframe to csv, bz2\n",
    "import os\n",
    "directory = \"export\"\n",
    "if not os.path.exists(directory):\n",
    "    os.makedirs(directory)    # will create directory if it doesnt exist\n",
    "file_name = os.path.join(\"df_export.bz2\")\n",
    "df.to_csv(file_name, index=False, compression='bz2') #export to csv with bz2 compression, ascii format\n",
    "df.to_csv(\"df_export.csv\", index=False) #export to csv with bz2 compression, ascii format"
   ]
  },
  {
   "cell_type": "code",
   "execution_count": 7,
   "metadata": {},
   "outputs": [
    {
     "data": {
      "text/plain": [
       "['guava', 'melon']"
      ]
     },
     "execution_count": 7,
     "metadata": {},
     "output_type": "execute_result"
    }
   ],
   "source": [
    "# filtering List based on another List\n",
    "fullList = [\"apple\",\"orange\",\"guava\",\"melon\"]\n",
    "ignoreList= [\"apple\",\"orange\"]\n",
    "filteredList = [item for item in fullList if item not in ignoreList]\n",
    "filteredList\n",
    "\n",
    "# filesList = [item for item in files if (item.endswith('.xlsx') and (not(\"$\" in item)))]\n",
    "# this can be used to create a sub-list which end with .xlsx and not have $ to start in the filename"
   ]
  },
  {
   "cell_type": "code",
   "execution_count": 8,
   "metadata": {},
   "outputs": [
    {
     "name": "stdout",
     "output_type": "stream",
     "text": [
      "0\n",
      "2\n",
      "4\n",
      "6\n",
      "8\n"
     ]
    }
   ],
   "source": [
    "# for loop\n",
    "for i in range(0, 10, 2):\n",
    "    print(i)"
   ]
  },
  {
   "cell_type": "code",
   "execution_count": 9,
   "metadata": {},
   "outputs": [],
   "source": [
    "# exporting a json in utf-8\n",
    "import io\n",
    "import json\n",
    "exportFile=\"sample.json\"\n",
    "dictVariable = {}\n",
    "dictVariable[\"name\"]=[\"A\",\"B\",\"C\"]\n",
    "dictVariable[\"age\"]=[10,15,21]\n",
    "with io.open(exportFile, 'w', encoding='utf-8') as outfile:\n",
    "    #py 2.7\n",
    "    #fileContent = json.dumps(dictVariable,sort_keys=True,encoding='utf8',ensure_ascii=False)\n",
    "    #py 3.6\n",
    "    fileContent = json.dumps(dictVariable,sort_keys=True,ensure_ascii=False)\n",
    "    outfile.write(fileContent)"
   ]
  },
  {
   "cell_type": "code",
   "execution_count": 10,
   "metadata": {},
   "outputs": [
    {
     "name": "stdout",
     "output_type": "stream",
     "text": [
      "1.703772783279419\n",
      "2\n"
     ]
    }
   ],
   "source": [
    "import time\n",
    "\n",
    "def timeDiffStr(startTime, endTime):\n",
    "    return str(int(round((endTime-startTime), 0)))\n",
    "\n",
    "startTime = time.time()\n",
    "time.sleep(1.7) #sleep for 1.7 seconds\n",
    "endTime = time.time()\n",
    "\n",
    "print (endTime-startTime)\n",
    "print(timeDiffStr(startTime,endTime)) #rounded value of time difference\n"
   ]
  },
  {
   "cell_type": "code",
   "execution_count": 11,
   "metadata": {},
   "outputs": [
    {
     "name": "stdout",
     "output_type": "stream",
     "text": [
      "  name  age\n",
      "0    A   10\n",
      "1    B   15\n",
      "2    C   21\n",
      "  Col:na  Col:a\n",
      "0      A     10\n",
      "1      B     15\n",
      "2      C     21\n"
     ]
    }
   ],
   "source": [
    "# dataframe rename columns \n",
    "print (df)\n",
    "df2 = df.rename(columns=lambda x: \"Col:\"+x[:-2], inplace=False) #renames columns based on col values\n",
    "print (df2)"
   ]
  },
  {
   "cell_type": "code",
   "execution_count": 12,
   "metadata": {},
   "outputs": [
    {
     "name": "stdout",
     "output_type": "stream",
     "text": [
      "OrderedDict([('Key1', 'Value1'), ('Key2', 'Value2')])\n"
     ]
    }
   ],
   "source": [
    "#OrderedDictionary\n",
    "import collections\n",
    "data = collections.OrderedDict()\n",
    "data['Key1'] = \"Value1\"\n",
    "data['Key2'] = \"Value2\"\n",
    "\n",
    "print (data)"
   ]
  },
  {
   "cell_type": "code",
   "execution_count": 13,
   "metadata": {},
   "outputs": [],
   "source": [
    "#Write to a file:\n",
    "filename=\"out2.json\"\n",
    "with open(filename, 'w') as outfile:\n",
    "    json.dump(data, outfile)"
   ]
  },
  {
   "cell_type": "code",
   "execution_count": 14,
   "metadata": {},
   "outputs": [
    {
     "name": "stdout",
     "output_type": "stream",
     "text": [
      "  name  age\n",
      "0    A   10\n",
      "1    B   15\n",
      "2    C   21\n",
      "['A', 'B', 'C']\n"
     ]
    }
   ],
   "source": [
    "#convert dataframe columns to list\n",
    "listOfValues = df[\"name\"].tolist()\n",
    "print (df)\n",
    "print (listOfValues)"
   ]
  },
  {
   "cell_type": "code",
   "execution_count": 15,
   "metadata": {},
   "outputs": [
    {
     "name": "stdout",
     "output_type": "stream",
     "text": [
      "  name  age\n",
      "0    A   10\n",
      "1    B   15\n",
      "2    C   21\n",
      "[{'name': 'A', 'age': 10}, {'name': 'B', 'age': 15}, {'name': 'C', 'age': 21}]\n"
     ]
    }
   ],
   "source": [
    "# convert a dataframe into dictionary as records\n",
    "dictionary = df.to_dict('records')\n",
    "print (df)\n",
    "print (dictionary)"
   ]
  },
  {
   "cell_type": "code",
   "execution_count": 16,
   "metadata": {},
   "outputs": [
    {
     "name": "stdout",
     "output_type": "stream",
     "text": [
      "Path=..\n",
      "\tFile=.DS_Store\n",
      "\tFile=course-structure.md\n",
      "Path=../AI 6 Session Recordings\n",
      "\tFile=ai6_Session1.mp4\n",
      "Path=../week1\n",
      "\tFile=prerequisite.md\n",
      "\tFile=PaperSpaceRemoteLoginSetup.sh\n",
      "Path=../week0\n",
      "\tFile=SampleExcel.xlsx\n",
      "\tFile=prerequisite.md\n",
      "\tFile=array.txt\n",
      "\tFile=.DS_Store\n",
      "\tFile=an_array.npy\n",
      "\tFile=df_export.bz2\n",
      "\tFile=database.ipynb\n",
      "\tFile=out2.json\n",
      "\tFile=python-basics.ipynb\n",
      "\tFile=03_Numpy_Notebook.ipynb\n",
      "\tFile=sample.json\n",
      "\tFile=Numpy Exercises - Level 1.ipynb\n",
      "\tFile=excercise.md\n",
      "\tFile=pandas.ipynb\n",
      "\tFile=exercises.py\n",
      "\tFile=df_export.csv\n",
      "Path=../week0/sample_kaggle_data\n",
      "\tFile=movie sentiment analysis.tsv\n",
      "\tFile=digit_recognizer_data.csv\n",
      "\tFile=fashion_objects_detection.json\n",
      "\tFile=house_price_prediction.csv\n",
      "Path=../week0/.ipynb_checkpoints\n",
      "\tFile=Numpy Exercises - Level 1-checkpoint.ipynb\n",
      "\tFile=03_Numpy_Notebook-checkpoint.ipynb\n",
      "\tFile=pandas-checkpoint.ipynb\n",
      "\tFile=database-checkpoint.ipynb\n",
      "Path=../week0/export\n",
      "Path=../.vscode\n",
      "\tFile=launch.json\n",
      "\tFile=tasks.json\n"
     ]
    }
   ],
   "source": [
    "# iterate through sub-directories\n",
    "rootPath = \"..\"\n",
    "for path, subdirs, files in os.walk(str(rootPath)):\n",
    "    print (\"Path={}\".format(path))\n",
    "    #print (subdirs)\n",
    "    for name in files:\n",
    "        print (\"{}File={}\".format(\"\\t\",name))"
   ]
  },
  {
   "cell_type": "code",
   "execution_count": 17,
   "metadata": {},
   "outputs": [
    {
     "name": "stdout",
     "output_type": "stream",
     "text": [
      "[{'name': 'A', 'age': 10}, {'name': 'B', 'age': 15}, {'name': 'C', 'age': 21}]\n"
     ]
    }
   ],
   "source": [
    "#iterating the dataframe by each row\n",
    "lists=[]\n",
    "for index,row in df.iterrows():\n",
    "    lists.append(row.to_dict()) #convert the row to a dictionary and add to a list\n",
    "print(lists)"
   ]
  },
  {
   "cell_type": "code",
   "execution_count": 18,
   "metadata": {},
   "outputs": [
    {
     "name": "stdout",
     "output_type": "stream",
     "text": [
      "All Processes are queued, let's see when they finish!\n",
      "I am Worker 1, I slept for 2 seconds\n",
      "I am Worker 4, I slept for 4 seconds\n",
      "I am Worker 3, I slept for 8 seconds\n",
      "I am Worker 0, I slept for 9 seconds\n",
      "I am Worker 2, I slept for 9 seconds\n"
     ]
    }
   ],
   "source": [
    "# using concurrency and parallelism - multiprocessing \n",
    "import multiprocessing\n",
    "import time\n",
    "import random\n",
    "\n",
    "def worker(number):\n",
    "    sleep = random.randrange(1, 10)\n",
    "    time.sleep(sleep)\n",
    "    print(\"I am Worker {}, I slept for {} seconds\".format(number, sleep))\n",
    "\n",
    "for i in range(5):\n",
    "    t = multiprocessing.Process(target=worker, args=(i,))\n",
    "    t.start()\n",
    "\n",
    "print(\"All Processes are queued, let's see when they finish!\")"
   ]
  },
  {
   "cell_type": "code",
   "execution_count": 19,
   "metadata": {},
   "outputs": [],
   "source": [
    "# dump json content with minimal separation space\n",
    "# fileContent = json.dumps(jsonData, sort_keys=False,ensure_ascii=False,indent=2,separators=(',', ':'))"
   ]
  },
  {
   "cell_type": "code",
   "execution_count": 20,
   "metadata": {},
   "outputs": [
    {
     "name": "stdout",
     "output_type": "stream",
     "text": [
      "name,age\n",
      "A,10\n",
      "B,15\n",
      "C,21\n",
      "\n"
     ]
    }
   ],
   "source": [
    "# read content from file\n",
    "filepath=\"../week0/df_export.csv\"\n",
    "fileObj = open(filepath, 'r')\n",
    "fileContent = fileObj.read()\n",
    "print (fileContent)"
   ]
  },
  {
   "cell_type": "code",
   "execution_count": 21,
   "metadata": {},
   "outputs": [
    {
     "name": "stdout",
     "output_type": "stream",
     "text": [
      "{'age': [10, 15, 21], 'name': ['A', 'B', 'C']}\n"
     ]
    }
   ],
   "source": [
    "# if its json data - you can load using json.loads to an object\n",
    "jsonFilePath=\"../week0/sample.json\"\n",
    "jsonFileObj = open(jsonFilePath, 'r')\n",
    "jsonData = json.loads(jsonFileObj.read())\n",
    "print (jsonData)"
   ]
  },
  {
   "cell_type": "code",
   "execution_count": 22,
   "metadata": {},
   "outputs": [
    {
     "data": {
      "text/html": [
       "<div>\n",
       "<style scoped>\n",
       "    .dataframe tbody tr th:only-of-type {\n",
       "        vertical-align: middle;\n",
       "    }\n",
       "\n",
       "    .dataframe tbody tr th {\n",
       "        vertical-align: top;\n",
       "    }\n",
       "\n",
       "    .dataframe thead th {\n",
       "        text-align: right;\n",
       "    }\n",
       "</style>\n",
       "<table border=\"1\" class=\"dataframe\">\n",
       "  <thead>\n",
       "    <tr style=\"text-align: right;\">\n",
       "      <th></th>\n",
       "      <th>name</th>\n",
       "      <th>age</th>\n",
       "      <th>&lt;col_name&gt;</th>\n",
       "    </tr>\n",
       "  </thead>\n",
       "  <tbody>\n",
       "    <tr>\n",
       "      <th>0</th>\n",
       "      <td>A</td>\n",
       "      <td>10</td>\n",
       "      <td>0</td>\n",
       "    </tr>\n",
       "    <tr>\n",
       "      <th>1</th>\n",
       "      <td>B</td>\n",
       "      <td>15</td>\n",
       "      <td>0</td>\n",
       "    </tr>\n",
       "    <tr>\n",
       "      <th>2</th>\n",
       "      <td>C</td>\n",
       "      <td>21</td>\n",
       "      <td>0</td>\n",
       "    </tr>\n",
       "  </tbody>\n",
       "</table>\n",
       "</div>"
      ],
      "text/plain": [
       "  name  age  <col_name>\n",
       "0    A   10           0\n",
       "1    B   15           0\n",
       "2    C   21           0"
      ]
     },
     "execution_count": 22,
     "metadata": {},
     "output_type": "execute_result"
    }
   ],
   "source": [
    "#add/update a new column name \"<col_name>\" and set all values as 0\n",
    "df['<col_name>'] = 0\n",
    "df"
   ]
  },
  {
   "cell_type": "code",
   "execution_count": 23,
   "metadata": {},
   "outputs": [
    {
     "name": "stdout",
     "output_type": "stream",
     "text": [
      "0    False\n",
      "1    False\n",
      "2     True\n",
      "Name: age, dtype: bool\n",
      "  name  age <col_name>\n",
      "0    A   10          0\n",
      "1    B   15          0\n",
      "2    C   21      Adult\n"
     ]
    }
   ],
   "source": [
    "# modify dataframe column value based on condition\n",
    "#for index, row in df.iterrows():\n",
    "    #int_age = int(row['age'])\n",
    "    #name = row['name']\n",
    "print (df['age'] >= 18)\n",
    "df.loc[(df['age'] >= 18) & (df['age'] <= 21),'<col_name>'] = 'Adult'\n",
    "print (df)\n"
   ]
  },
  {
   "cell_type": "code",
   "execution_count": 24,
   "metadata": {},
   "outputs": [],
   "source": [
    "# load excel object\n",
    "excelFilePath=\"../week0/SampleExcel.xlsx\"\n",
    "excelObject = pd.ExcelFile(excelFilePath)"
   ]
  },
  {
   "cell_type": "code",
   "execution_count": 25,
   "metadata": {},
   "outputs": [
    {
     "name": "stdout",
     "output_type": "stream",
     "text": [
      "       name  age sex\n",
      "0     aamir   45   M\n",
      "1  shahrukh   47   M\n",
      "2    preity   40   F\n",
      "3     kajol   42   F\n"
     ]
    }
   ],
   "source": [
    "# parse excel sheet into dataframe\n",
    "sheet1Df = excelObject.parse('Sheet1',keep_default_na=False, na_values='None')\n",
    "print (sheet1Df)"
   ]
  },
  {
   "cell_type": "code",
   "execution_count": 26,
   "metadata": {},
   "outputs": [
    {
     "name": "stdout",
     "output_type": "stream",
     "text": [
      "       name  age sex\n",
      "0     aamir   45   M\n",
      "1  shahrukh   47   M\n",
      "2    preity   40   F\n",
      "3     kajol   42   F\n"
     ]
    }
   ],
   "source": [
    "# rename dataframe columns\n",
    "sheet1Df.rename(columns=lambda x: x.replace('.','_').strip(),inplace=True)\n",
    "print (sheet1Df)"
   ]
  },
  {
   "cell_type": "code",
   "execution_count": 27,
   "metadata": {},
   "outputs": [
    {
     "name": "stdout",
     "output_type": "stream",
     "text": [
      "aamir\n"
     ]
    }
   ],
   "source": [
    "# get element in dataframe first row, first column\n",
    "print(sheet1Df.iloc[0][0])"
   ]
  },
  {
   "cell_type": "code",
   "execution_count": 28,
   "metadata": {},
   "outputs": [
    {
     "name": "stdout",
     "output_type": "stream",
     "text": [
      "{'age': 45}\n"
     ]
    }
   ],
   "source": [
    "# get dataframe's first row and from 2nd column till n-1 columns -> and then convert to dictionary\n",
    "print(sheet1Df.iloc[0][1:-1].to_dict())"
   ]
  },
  {
   "cell_type": "code",
   "execution_count": 29,
   "metadata": {},
   "outputs": [
    {
     "name": "stdout",
     "output_type": "stream",
     "text": [
      "       name  age sex\n",
      "1  shahrukh   47   M\n",
      "2    preity   40   F\n",
      "3     kajol   42   F\n"
     ]
    }
   ],
   "source": [
    "# dataframe remove first row\n",
    "sheet1Df_modified = sheet1Df.drop(0,axis=0,inplace=False)\n",
    "print (sheet1Df_modified)"
   ]
  },
  {
   "cell_type": "code",
   "execution_count": 30,
   "metadata": {},
   "outputs": [
    {
     "name": "stdout",
     "output_type": "stream",
     "text": [
      "name\n"
     ]
    }
   ],
   "source": [
    "# find a column name in dataframe that has a substring in column name\n",
    "# [0] repreents get the first value if multiple matches are found\n",
    "columnName = [col for col in sheet1Df.columns if 'NAM'.upper() in col.upper()][0]\n",
    "print(columnName)"
   ]
  },
  {
   "cell_type": "code",
   "execution_count": 31,
   "metadata": {},
   "outputs": [
    {
     "name": "stdout",
     "output_type": "stream",
     "text": [
      "{'M', 'F'}\n",
      "['F', 'M']\n"
     ]
    }
   ],
   "source": [
    "# get unique list of value from iloc[<all_rows>:<3rd col>]\n",
    "# get unique list of values from column name\n",
    "uniqueSexes = set(sheet1Df.iloc[:,2].tolist())\n",
    "uniqueSexesListOption2 = sorted((set((sheet1Df['sex']).tolist())))\n",
    "print (uniqueSexes)\n",
    "print (uniqueSexesListOption2)"
   ]
  },
  {
   "cell_type": "code",
   "execution_count": 32,
   "metadata": {},
   "outputs": [
    {
     "name": "stdout",
     "output_type": "stream",
     "text": [
      "       name  age sex\n",
      "0     aamir   45   M\n",
      "1  shahrukh   47   M\n",
      "2    preity   40   F\n",
      "3     kajol   42   F\n",
      "    name  age sex\n",
      "0  aamir   45   M\n"
     ]
    }
   ],
   "source": [
    "# slice a dataframe based on a column's value\n",
    "print (sheet1Df)\n",
    "slicedDf = sheet1Df.loc[(sheet1Df['age'] == 45)]\n",
    "print (slicedDf)"
   ]
  },
  {
   "cell_type": "code",
   "execution_count": 33,
   "metadata": {},
   "outputs": [
    {
     "name": "stdout",
     "output_type": "stream",
     "text": [
      "       name  age sex\n",
      "0     aamir   45   M\n",
      "1  shahrukh   47   M\n",
      "2    preity   40   F\n",
      "3     kajol   42   F\n",
      "\n",
      "       name  age sex\n",
      "0     aamir   45   M\n",
      "1  shahrukh   47   M\n",
      "2    preity   40   F\n",
      "3     kajol   42   F\n",
      "  sex\n",
      "0   M\n",
      "1   M\n",
      "2   F\n",
      "3   F\n"
     ]
    }
   ],
   "source": [
    "#drop first 2 columns of dataframe\n",
    "sheet2Df = sheet1Df.copy(deep=True)\n",
    "print(sheet1Df)\n",
    "print()\n",
    "print(sheet2Df)\n",
    "sheet3Df = sheet2Df.drop(sheet2Df.iloc[:, 0:2], inplace=False, axis=1)\n",
    "print (sheet3Df)"
   ]
  },
  {
   "cell_type": "code",
   "execution_count": 34,
   "metadata": {},
   "outputs": [
    {
     "name": "stdout",
     "output_type": "stream",
     "text": [
      "       name  age sex\n",
      "0     aamir   45   M\n",
      "1  shahrukh   47   M\n"
     ]
    }
   ],
   "source": [
    "# delete dataframe rows, truncate, after row 2 \n",
    "sheet2Df = sheet1Df.truncate(after=1)\n",
    "print (sheet2Df)"
   ]
  },
  {
   "cell_type": "code",
   "execution_count": 35,
   "metadata": {},
   "outputs": [
    {
     "name": "stdout",
     "output_type": "stream",
     "text": [
      "       name  age sex\n",
      "0     aamir   45   M\n",
      "1  shahrukh   47   M\n",
      "2    preity   40   F\n",
      "3     kajol   42   F\n",
      "True\n",
      "False\n"
     ]
    }
   ],
   "source": [
    "# check if string is a number\n",
    "print(sheet1Df)\n",
    "age = str(sheet1Df.iloc[0,1])\n",
    "print (age.isdigit())\n",
    "print ('5.5600'.isdigit())"
   ]
  },
  {
   "cell_type": "code",
   "execution_count": 42,
   "metadata": {},
   "outputs": [
    {
     "name": "stdout",
     "output_type": "stream",
     "text": [
      "0 apple\n",
      "1 orange\n",
      "2 mango\n"
     ]
    }
   ],
   "source": [
    "# iterate a collection in a for loop, also require the index/counter\n",
    "fruits = [\"apple\",\"orange\",\"mango\"]\n",
    "for counter,fruit in enumerate(fruits):\n",
    "    print(counter,fruit)\n"
   ]
  },
  {
   "cell_type": "code",
   "execution_count": 53,
   "metadata": {},
   "outputs": [
    {
     "name": "stdout",
     "output_type": "stream",
     "text": [
      "ProcessID=69168,Fruit=apple\n",
      "ProcessID=69168,Sleeping...for 3 seconds\n",
      "ProcessID=69169,Fruit=orange\n",
      "ProcessID=69169,Sleeping...for 3 seconds\n",
      "ProcessID=69170,Fruit=mango\n",
      "ProcessID=69170,Sleeping...for 1 seconds\n",
      "ProcessID=69170,Finished Sleeping...for 1 seconds\n",
      "ProcessID=69168,Finished Sleeping...for 3 seconds\n",
      "ProcessID=69169,Finished Sleeping...for 3 seconds\n",
      "Completed Execution of all processes.\n"
     ]
    }
   ],
   "source": [
    "# multiprocessing example\n",
    "from random import randint\n",
    "\n",
    "def printFruit(counter,fruitName):\n",
    "    sleepTime = randint(1, 5)\n",
    "    processId = os.getpid()\n",
    "    print(\"ProcessID={},Fruit={}\".format(processId,fruitName))    \n",
    "    print(\"ProcessID={},Sleeping...for {} seconds\".format(processId,sleepTime))\n",
    "    time.sleep(sleepTime)\n",
    "    print(\"ProcessID={},Finished Sleeping...for {} seconds\".format(processId,sleepTime))\n",
    "    \n",
    "procs = []\n",
    "fruits = [\"apple\",\"orange\",\"mango\"]\n",
    "for counter,fruit in enumerate(fruits):\n",
    "    proc = multiprocessing.Process(target=printFruit, args=(counter,fruit))\n",
    "    procs.append(proc)\n",
    "    proc.start()\n",
    "for proc in procs:\n",
    "    proc.join()\n",
    "print (\"Completed Execution of all processes.\")\n"
   ]
  },
  {
   "cell_type": "code",
   "execution_count": 57,
   "metadata": {},
   "outputs": [],
   "source": [
    "# force python version\n",
    "import sys\n",
    "assert (sys.version_info >= (3,0))"
   ]
  },
  {
   "cell_type": "code",
   "execution_count": 61,
   "metadata": {},
   "outputs": [
    {
     "name": "stdout",
     "output_type": "stream",
     "text": [
      "ProcessID=69424,Fruit=1\n",
      "ProcessID=69423,Fruit=0\n",
      "ProcessID=69423,Sleeping...for 9 seconds\n",
      "ProcessID=69424,Sleeping...for 3 seconds\n",
      "ProcessID=69424,Finished Sleeping...for 3 seconds\n",
      "ProcessID=69424,Fruit=2\n",
      "ProcessID=69424,Sleeping...for 8 seconds\n",
      "ProcessID=69423,Finished Sleeping...for 9 seconds\n",
      "ProcessID=69423,Fruit=3\n",
      "ProcessID=69423,Sleeping...for 6 seconds\n",
      "ProcessID=69424,Finished Sleeping...for 8 seconds\n",
      "ProcessID=69424,Fruit=4\n",
      "ProcessID=69424,Sleeping...for 4 seconds\n",
      "ProcessID=69423,Finished Sleeping...for 6 seconds\n",
      "ProcessID=69423,Fruit=5\n",
      "ProcessID=69423,Sleeping...for 4 seconds\n",
      "ProcessID=69424,Finished Sleeping...for 4 seconds\n",
      "ProcessID=69424,Fruit=6\n",
      "ProcessID=69424,Sleeping...for 3 seconds\n",
      "ProcessID=69424,Finished Sleeping...for 3 seconds\n",
      "ProcessID=69424,Fruit=7\n",
      "ProcessID=69424,Sleeping...for 10 seconds\n",
      "ProcessID=69423,Finished Sleeping...for 4 seconds\n",
      "ProcessID=69423,Fruit=8\n",
      "ProcessID=69423,Sleeping...for 2 seconds\n",
      "ProcessID=69423,Finished Sleeping...for 2 seconds\n",
      "ProcessID=69423,Fruit=9\n",
      "ProcessID=69423,Sleeping...for 1 seconds\n",
      "ProcessID=69423,Finished Sleeping...for 1 seconds\n",
      "ProcessID=69423,Fruit=10\n",
      "ProcessID=69423,Sleeping...for 9 seconds\n",
      "ProcessID=69424,Finished Sleeping...for 10 seconds\n",
      "ProcessID=69424,Fruit=11\n",
      "ProcessID=69424,Sleeping...for 3 seconds\n",
      "ProcessID=69423,Finished Sleeping...for 9 seconds\n",
      "ProcessID=69423,Fruit=12\n",
      "ProcessID=69424,Finished Sleeping...for 3 seconds\n",
      "ProcessID=69423,Sleeping...for 4 seconds\n",
      "ProcessID=69424,Fruit=13\n",
      "ProcessID=69424,Sleeping...for 1 seconds\n",
      "ProcessID=69424,Finished Sleeping...for 1 seconds\n",
      "ProcessID=69424,Fruit=14\n",
      "ProcessID=69424,Sleeping...for 10 seconds\n",
      "ProcessID=69423,Finished Sleeping...for 4 seconds\n",
      "ProcessID=69424,Finished Sleeping...for 10 seconds\n",
      "Completed Execution of all processes.\n"
     ]
    }
   ],
   "source": [
    "# multiprocessing with defined number of pool of processes example\n",
    "\n",
    "from random import randint\n",
    "\n",
    "def printFruit(counter,fruitName):\n",
    "    sleepTime = randint(1, 10)\n",
    "    processId = os.getpid()\n",
    "    print(\"ProcessID={},Fruit={}\".format(processId,fruitName))    \n",
    "    print(\"ProcessID={},Sleeping...for {} seconds\".format(processId,sleepTime))\n",
    "    time.sleep(sleepTime)\n",
    "    print(\"ProcessID={},Finished Sleeping...for {} seconds\".format(processId,sleepTime))\n",
    "    \n",
    "\n",
    "procs = []\n",
    "fruits = range(0,15)\n",
    "pool = multiprocessing.Pool(processes=2) \n",
    "for counter,fruit in enumerate(fruits):\n",
    "    proc = multiprocessing.Process(target=printFruit, args=(counter,fruit))\n",
    "    pool.apply_async(printFruit, args=(counter,fruit))\n",
    "\n",
    "pool.close()\n",
    "pool.join()\n",
    "print (\"Completed Execution of all processes.\")"
   ]
  },
  {
   "cell_type": "code",
   "execution_count": 69,
   "metadata": {},
   "outputs": [
    {
     "name": "stdout",
     "output_type": "stream",
     "text": [
      "ProcessID=68601,Fruit=../week0/\n",
      "ProcessID=68601,Sleeping...for 1 seconds\n",
      "ProcessID=68601,Finished Sleeping...for 1 seconds\n"
     ]
    }
   ],
   "source": [
    "#how to pass arguments argparse\n",
    "def main(args=None):\n",
    "    argParser = argparse.ArgumentParser(description=__doc__)        \n",
    "    argParser.add_argument(\"-I\", \"--inputdir\", type=str, default=None, required=True, help=\"input directory for files\")\n",
    "    Testing = True\n",
    "    if (Testing):\n",
    "        arguments = argParser.parse_args(\"-I,../week0/\".split(','))  \n",
    "    else:\n",
    "        arguments = argParser.parse_args(args=args)\n",
    "\n",
    "    if (arguments.inputdir is not None):\n",
    "        printFruit(1,arguments.inputdir)\n",
    "main()\n",
    "\n"
   ]
  },
  {
   "cell_type": "code",
   "execution_count": 73,
   "metadata": {},
   "outputs": [
    {
     "name": "stdout",
     "output_type": "stream",
     "text": [
      "  name  age\n",
      "0    A   10\n",
      "1    B   15\n",
      "2    C   21\n",
      "0    A   10\n",
      "1    B   15\n",
      "2    C   21\n",
      "0    A   10\n",
      "1    B   15\n",
      "2    C   21\n"
     ]
    }
   ],
   "source": [
    "# concatenating, adding dataframe, concat, append values\n",
    "file = \"../week0/df_export.csv\"\n",
    "returnDf = pd.DataFrame()\n",
    "for i in range(0,3):\n",
    "    df = pd.read_csv(file)\n",
    "    returnDf = pd.concat([returnDf,df])\n",
    "print (returnDf)"
   ]
  },
  {
   "cell_type": "code",
   "execution_count": 103,
   "metadata": {},
   "outputs": [
    {
     "name": "stdout",
     "output_type": "stream",
     "text": [
      "  name  age ValuePresent\n",
      "0    A   10         True\n",
      "1    B   15         True\n",
      "2    C   21         True\n",
      "0    A   10         True\n",
      "1    B   15         True\n",
      "2    C   21         True\n",
      "0    A   10         True\n",
      "1    B   15         True\n",
      "2    C   21         True\n",
      "  name  age ValuePresent\n",
      "0    A   10             \n",
      "1    B   15         True\n",
      "2    C   21         True\n",
      "0    A   10         True\n",
      "1    B   15         True\n",
      "2    C   21         True\n",
      "0    A   10         True\n",
      "1    B   15         True\n",
      "2    C   21         True\n",
      "Empty DataFrame\n",
      "Columns: [name, age, ValuePresent]\n",
      "Index: []\n"
     ]
    }
   ],
   "source": [
    "# return dataframe with not null values of a column\n",
    "returnDf2 = returnDf[pd.to_numeric(returnDf['age'], errors='coerce').notnull()]\n",
    "returnDf2['ValuePresent']=\"True\"\n",
    "print(returnDf2)\n",
    "returnDf2.iat[0,2] = \"\"\n",
    "print(returnDf2)\n",
    "returnDf3 = returnDf2[pd.to_numeric(returnDf2['ValuePresent'], errors='coerce').notnull()]\n",
    "print(returnDf3)"
   ]
  },
  {
   "cell_type": "code",
   "execution_count": 105,
   "metadata": {},
   "outputs": [
    {
     "name": "stdout",
     "output_type": "stream",
     "text": [
      "  name  age ValuePresent  NewCol\n",
      "0    A   10                  110\n",
      "1    B   15         True     115\n",
      "2    C   21         True     121\n",
      "0    A   10         True     110\n",
      "1    B   15         True     115\n",
      "2    C   21         True     121\n",
      "0    A   10         True     110\n",
      "1    B   15         True     115\n",
      "2    C   21         True     121\n"
     ]
    }
   ],
   "source": [
    "# add column based on existing column's value\n",
    "# pandas lambda function\n",
    "returnDf2['NewCol'] = returnDf2['age'].map(lambda a: a+100)\n",
    "print(returnDf2)"
   ]
  },
  {
   "cell_type": "code",
   "execution_count": 106,
   "metadata": {},
   "outputs": [
    {
     "name": "stdout",
     "output_type": "stream",
     "text": [
      "  name  age\n",
      "0    A   10\n",
      "1    B   15\n",
      "2    C   21\n",
      "0    A   10\n",
      "1    B   15\n",
      "2    C   21\n",
      "0    A   10\n",
      "1    B   15\n",
      "2    C   21\n",
      "  name  age ValuePresent  NewCol\n",
      "0    A   10                  110\n",
      "1    B   15         True     115\n",
      "2    C   21         True     121\n",
      "0    A   10         True     110\n",
      "1    B   15         True     115\n",
      "2    C   21         True     121\n",
      "0    A   10         True     110\n",
      "1    B   15         True     115\n",
      "2    C   21         True     121\n",
      "   name  age_x ValuePresent  NewCol  age_y _merge\n",
      "0     A     10                  110     10   both\n",
      "1     A     10                  110     10   both\n",
      "2     A     10                  110     10   both\n",
      "3     A     10         True     110     10   both\n",
      "4     A     10         True     110     10   both\n",
      "5     A     10         True     110     10   both\n",
      "6     A     10         True     110     10   both\n",
      "7     A     10         True     110     10   both\n",
      "8     A     10         True     110     10   both\n",
      "9     B     15         True     115     15   both\n",
      "10    B     15         True     115     15   both\n",
      "11    B     15         True     115     15   both\n",
      "12    B     15         True     115     15   both\n",
      "13    B     15         True     115     15   both\n",
      "14    B     15         True     115     15   both\n",
      "15    B     15         True     115     15   both\n",
      "16    B     15         True     115     15   both\n",
      "17    B     15         True     115     15   both\n",
      "18    C     21         True     121     21   both\n",
      "19    C     21         True     121     21   both\n",
      "20    C     21         True     121     21   both\n",
      "21    C     21         True     121     21   both\n",
      "22    C     21         True     121     21   both\n",
      "23    C     21         True     121     21   both\n",
      "24    C     21         True     121     21   both\n",
      "25    C     21         True     121     21   both\n",
      "26    C     21         True     121     21   both\n"
     ]
    }
   ],
   "source": [
    "joinFields = ['name']\n",
    "mergeDf = returnDf2.merge(right=returnDf,how='outer',left_on=joinFields,right_on=joinFields,indicator=True,sort=False)\t\n",
    "mergeDf.sort_values(by=['name'])\n",
    "print (returnDf)\n",
    "print (returnDf2)\n",
    "print (mergeDf)"
   ]
  },
  {
   "cell_type": "code",
   "execution_count": 110,
   "metadata": {},
   "outputs": [
    {
     "name": "stdout",
     "output_type": "stream",
     "text": [
      "  name  age_x ValuePresent  NewCol  age_y _merge\n",
      "0    A     10                  110     10   both\n",
      "1    A     10                  110     10   both\n",
      "2    A     10                  110     10   both\n",
      "3    A     10         True     110     10   both\n",
      "4    A     10         True     110     10   both\n",
      "5    A     10         True     110     10   both\n",
      "6    A     10         True     110     10   both\n",
      "7    A     10         True     110     10   both\n",
      "8    A     10         True     110     10   both\n"
     ]
    }
   ],
   "source": [
    "# slice dataframe\n",
    "sliceDf = mergeDf[mergeDf['name'] == 'A']\n",
    "print(sliceDf)"
   ]
  },
  {
   "cell_type": "code",
   "execution_count": 111,
   "metadata": {},
   "outputs": [
    {
     "ename": "ValueError",
     "evalue": "fill value must be in categories",
     "output_type": "error",
     "traceback": [
      "\u001b[0;31m---------------------------------------------------------------------------\u001b[0m",
      "\u001b[0;31mValueError\u001b[0m                                Traceback (most recent call last)",
      "\u001b[0;32m<ipython-input-111-68837c4429c2>\u001b[0m in \u001b[0;36m<module>\u001b[0;34m()\u001b[0m\n\u001b[1;32m      1\u001b[0m \u001b[0;31m# fill nan values with blank\u001b[0m\u001b[0;34m\u001b[0m\u001b[0;34m\u001b[0m\u001b[0m\n\u001b[0;32m----> 2\u001b[0;31m \u001b[0msliceDf\u001b[0m\u001b[0;34m.\u001b[0m\u001b[0mfillna\u001b[0m\u001b[0;34m(\u001b[0m\u001b[0;34m''\u001b[0m\u001b[0;34m,\u001b[0m\u001b[0minplace\u001b[0m\u001b[0;34m=\u001b[0m\u001b[0;32mTrue\u001b[0m\u001b[0;34m)\u001b[0m\u001b[0;34m\u001b[0m\u001b[0m\n\u001b[0m",
      "\u001b[0;32m/Library/Frameworks/Python.framework/Versions/3.6/lib/python3.6/site-packages/pandas/core/frame.py\u001b[0m in \u001b[0;36mfillna\u001b[0;34m(self, value, method, axis, inplace, limit, downcast, **kwargs)\u001b[0m\n\u001b[1;32m   3785\u001b[0m                      \u001b[0mself\u001b[0m\u001b[0;34m)\u001b[0m\u001b[0;34m.\u001b[0m\u001b[0mfillna\u001b[0m\u001b[0;34m(\u001b[0m\u001b[0mvalue\u001b[0m\u001b[0;34m=\u001b[0m\u001b[0mvalue\u001b[0m\u001b[0;34m,\u001b[0m \u001b[0mmethod\u001b[0m\u001b[0;34m=\u001b[0m\u001b[0mmethod\u001b[0m\u001b[0;34m,\u001b[0m \u001b[0maxis\u001b[0m\u001b[0;34m=\u001b[0m\u001b[0maxis\u001b[0m\u001b[0;34m,\u001b[0m\u001b[0;34m\u001b[0m\u001b[0m\n\u001b[1;32m   3786\u001b[0m                                   \u001b[0minplace\u001b[0m\u001b[0;34m=\u001b[0m\u001b[0minplace\u001b[0m\u001b[0;34m,\u001b[0m \u001b[0mlimit\u001b[0m\u001b[0;34m=\u001b[0m\u001b[0mlimit\u001b[0m\u001b[0;34m,\u001b[0m\u001b[0;34m\u001b[0m\u001b[0m\n\u001b[0;32m-> 3787\u001b[0;31m                                   downcast=downcast, **kwargs)\n\u001b[0m\u001b[1;32m   3788\u001b[0m \u001b[0;34m\u001b[0m\u001b[0m\n\u001b[1;32m   3789\u001b[0m     \u001b[0;34m@\u001b[0m\u001b[0mAppender\u001b[0m\u001b[0;34m(\u001b[0m\u001b[0m_shared_docs\u001b[0m\u001b[0;34m[\u001b[0m\u001b[0;34m'replace'\u001b[0m\u001b[0;34m]\u001b[0m \u001b[0;34m%\u001b[0m \u001b[0m_shared_doc_kwargs\u001b[0m\u001b[0;34m)\u001b[0m\u001b[0;34m\u001b[0m\u001b[0m\n",
      "\u001b[0;32m/Library/Frameworks/Python.framework/Versions/3.6/lib/python3.6/site-packages/pandas/core/generic.py\u001b[0m in \u001b[0;36mfillna\u001b[0;34m(self, value, method, axis, inplace, limit, downcast)\u001b[0m\n\u001b[1;32m   5421\u001b[0m                 new_data = self._data.fillna(value=value, limit=limit,\n\u001b[1;32m   5422\u001b[0m                                              \u001b[0minplace\u001b[0m\u001b[0;34m=\u001b[0m\u001b[0minplace\u001b[0m\u001b[0;34m,\u001b[0m\u001b[0;34m\u001b[0m\u001b[0m\n\u001b[0;32m-> 5423\u001b[0;31m                                              downcast=downcast)\n\u001b[0m\u001b[1;32m   5424\u001b[0m             \u001b[0;32melif\u001b[0m \u001b[0misinstance\u001b[0m\u001b[0;34m(\u001b[0m\u001b[0mvalue\u001b[0m\u001b[0;34m,\u001b[0m \u001b[0mDataFrame\u001b[0m\u001b[0;34m)\u001b[0m \u001b[0;32mand\u001b[0m \u001b[0mself\u001b[0m\u001b[0;34m.\u001b[0m\u001b[0mndim\u001b[0m \u001b[0;34m==\u001b[0m \u001b[0;36m2\u001b[0m\u001b[0;34m:\u001b[0m\u001b[0;34m\u001b[0m\u001b[0m\n\u001b[1;32m   5425\u001b[0m                 \u001b[0mnew_data\u001b[0m \u001b[0;34m=\u001b[0m \u001b[0mself\u001b[0m\u001b[0;34m.\u001b[0m\u001b[0mwhere\u001b[0m\u001b[0;34m(\u001b[0m\u001b[0mself\u001b[0m\u001b[0;34m.\u001b[0m\u001b[0mnotna\u001b[0m\u001b[0;34m(\u001b[0m\u001b[0;34m)\u001b[0m\u001b[0;34m,\u001b[0m \u001b[0mvalue\u001b[0m\u001b[0;34m)\u001b[0m\u001b[0;34m\u001b[0m\u001b[0m\n",
      "\u001b[0;32m/Library/Frameworks/Python.framework/Versions/3.6/lib/python3.6/site-packages/pandas/core/internals.py\u001b[0m in \u001b[0;36mfillna\u001b[0;34m(self, **kwargs)\u001b[0m\n\u001b[1;32m   3706\u001b[0m \u001b[0;34m\u001b[0m\u001b[0m\n\u001b[1;32m   3707\u001b[0m     \u001b[0;32mdef\u001b[0m \u001b[0mfillna\u001b[0m\u001b[0;34m(\u001b[0m\u001b[0mself\u001b[0m\u001b[0;34m,\u001b[0m \u001b[0;34m**\u001b[0m\u001b[0mkwargs\u001b[0m\u001b[0;34m)\u001b[0m\u001b[0;34m:\u001b[0m\u001b[0;34m\u001b[0m\u001b[0m\n\u001b[0;32m-> 3708\u001b[0;31m         \u001b[0;32mreturn\u001b[0m \u001b[0mself\u001b[0m\u001b[0;34m.\u001b[0m\u001b[0mapply\u001b[0m\u001b[0;34m(\u001b[0m\u001b[0;34m'fillna'\u001b[0m\u001b[0;34m,\u001b[0m \u001b[0;34m**\u001b[0m\u001b[0mkwargs\u001b[0m\u001b[0;34m)\u001b[0m\u001b[0;34m\u001b[0m\u001b[0m\n\u001b[0m\u001b[1;32m   3709\u001b[0m \u001b[0;34m\u001b[0m\u001b[0m\n\u001b[1;32m   3710\u001b[0m     \u001b[0;32mdef\u001b[0m \u001b[0mdowncast\u001b[0m\u001b[0;34m(\u001b[0m\u001b[0mself\u001b[0m\u001b[0;34m,\u001b[0m \u001b[0;34m**\u001b[0m\u001b[0mkwargs\u001b[0m\u001b[0;34m)\u001b[0m\u001b[0;34m:\u001b[0m\u001b[0;34m\u001b[0m\u001b[0m\n",
      "\u001b[0;32m/Library/Frameworks/Python.framework/Versions/3.6/lib/python3.6/site-packages/pandas/core/internals.py\u001b[0m in \u001b[0;36mapply\u001b[0;34m(self, f, axes, filter, do_integrity_check, consolidate, **kwargs)\u001b[0m\n\u001b[1;32m   3579\u001b[0m \u001b[0;34m\u001b[0m\u001b[0m\n\u001b[1;32m   3580\u001b[0m             \u001b[0mkwargs\u001b[0m\u001b[0;34m[\u001b[0m\u001b[0;34m'mgr'\u001b[0m\u001b[0;34m]\u001b[0m \u001b[0;34m=\u001b[0m \u001b[0mself\u001b[0m\u001b[0;34m\u001b[0m\u001b[0m\n\u001b[0;32m-> 3581\u001b[0;31m             \u001b[0mapplied\u001b[0m \u001b[0;34m=\u001b[0m \u001b[0mgetattr\u001b[0m\u001b[0;34m(\u001b[0m\u001b[0mb\u001b[0m\u001b[0;34m,\u001b[0m \u001b[0mf\u001b[0m\u001b[0;34m)\u001b[0m\u001b[0;34m(\u001b[0m\u001b[0;34m**\u001b[0m\u001b[0mkwargs\u001b[0m\u001b[0;34m)\u001b[0m\u001b[0;34m\u001b[0m\u001b[0m\n\u001b[0m\u001b[1;32m   3582\u001b[0m             \u001b[0mresult_blocks\u001b[0m \u001b[0;34m=\u001b[0m \u001b[0m_extend_blocks\u001b[0m\u001b[0;34m(\u001b[0m\u001b[0mapplied\u001b[0m\u001b[0;34m,\u001b[0m \u001b[0mresult_blocks\u001b[0m\u001b[0;34m)\u001b[0m\u001b[0;34m\u001b[0m\u001b[0m\n\u001b[1;32m   3583\u001b[0m \u001b[0;34m\u001b[0m\u001b[0m\n",
      "\u001b[0;32m/Library/Frameworks/Python.framework/Versions/3.6/lib/python3.6/site-packages/pandas/core/internals.py\u001b[0m in \u001b[0;36mfillna\u001b[0;34m(self, value, limit, inplace, downcast, mgr)\u001b[0m\n\u001b[1;32m   2004\u001b[0m                mgr=None):\n\u001b[1;32m   2005\u001b[0m         \u001b[0mvalues\u001b[0m \u001b[0;34m=\u001b[0m \u001b[0mself\u001b[0m\u001b[0;34m.\u001b[0m\u001b[0mvalues\u001b[0m \u001b[0;32mif\u001b[0m \u001b[0minplace\u001b[0m \u001b[0;32melse\u001b[0m \u001b[0mself\u001b[0m\u001b[0;34m.\u001b[0m\u001b[0mvalues\u001b[0m\u001b[0;34m.\u001b[0m\u001b[0mcopy\u001b[0m\u001b[0;34m(\u001b[0m\u001b[0;34m)\u001b[0m\u001b[0;34m\u001b[0m\u001b[0m\n\u001b[0;32m-> 2006\u001b[0;31m         \u001b[0mvalues\u001b[0m \u001b[0;34m=\u001b[0m \u001b[0mvalues\u001b[0m\u001b[0;34m.\u001b[0m\u001b[0mfillna\u001b[0m\u001b[0;34m(\u001b[0m\u001b[0mvalue\u001b[0m\u001b[0;34m=\u001b[0m\u001b[0mvalue\u001b[0m\u001b[0;34m,\u001b[0m \u001b[0mlimit\u001b[0m\u001b[0;34m=\u001b[0m\u001b[0mlimit\u001b[0m\u001b[0;34m)\u001b[0m\u001b[0;34m\u001b[0m\u001b[0m\n\u001b[0m\u001b[1;32m   2007\u001b[0m         return [self.make_block_same_class(values=values,\n\u001b[1;32m   2008\u001b[0m                                            \u001b[0mplacement\u001b[0m\u001b[0;34m=\u001b[0m\u001b[0mself\u001b[0m\u001b[0;34m.\u001b[0m\u001b[0mmgr_locs\u001b[0m\u001b[0;34m,\u001b[0m\u001b[0;34m\u001b[0m\u001b[0m\n",
      "\u001b[0;32m/Library/Frameworks/Python.framework/Versions/3.6/lib/python3.6/site-packages/pandas/util/_decorators.py\u001b[0m in \u001b[0;36mwrapper\u001b[0;34m(*args, **kwargs)\u001b[0m\n\u001b[1;32m    175\u001b[0m                 \u001b[0;32melse\u001b[0m\u001b[0;34m:\u001b[0m\u001b[0;34m\u001b[0m\u001b[0m\n\u001b[1;32m    176\u001b[0m                     \u001b[0mkwargs\u001b[0m\u001b[0;34m[\u001b[0m\u001b[0mnew_arg_name\u001b[0m\u001b[0;34m]\u001b[0m \u001b[0;34m=\u001b[0m \u001b[0mnew_arg_value\u001b[0m\u001b[0;34m\u001b[0m\u001b[0m\n\u001b[0;32m--> 177\u001b[0;31m             \u001b[0;32mreturn\u001b[0m \u001b[0mfunc\u001b[0m\u001b[0;34m(\u001b[0m\u001b[0;34m*\u001b[0m\u001b[0margs\u001b[0m\u001b[0;34m,\u001b[0m \u001b[0;34m**\u001b[0m\u001b[0mkwargs\u001b[0m\u001b[0;34m)\u001b[0m\u001b[0;34m\u001b[0m\u001b[0m\n\u001b[0m\u001b[1;32m    178\u001b[0m         \u001b[0;32mreturn\u001b[0m \u001b[0mwrapper\u001b[0m\u001b[0;34m\u001b[0m\u001b[0m\n\u001b[1;32m    179\u001b[0m     \u001b[0;32mreturn\u001b[0m \u001b[0m_deprecate_kwarg\u001b[0m\u001b[0;34m\u001b[0m\u001b[0m\n",
      "\u001b[0;32m/Library/Frameworks/Python.framework/Versions/3.6/lib/python3.6/site-packages/pandas/core/arrays/categorical.py\u001b[0m in \u001b[0;36mfillna\u001b[0;34m(self, value, method, limit)\u001b[0m\n\u001b[1;32m   1754\u001b[0m             \u001b[0;32melif\u001b[0m \u001b[0mis_scalar\u001b[0m\u001b[0;34m(\u001b[0m\u001b[0mvalue\u001b[0m\u001b[0;34m)\u001b[0m\u001b[0;34m:\u001b[0m\u001b[0;34m\u001b[0m\u001b[0m\n\u001b[1;32m   1755\u001b[0m                 \u001b[0;32mif\u001b[0m \u001b[0;32mnot\u001b[0m \u001b[0misna\u001b[0m\u001b[0;34m(\u001b[0m\u001b[0mvalue\u001b[0m\u001b[0;34m)\u001b[0m \u001b[0;32mand\u001b[0m \u001b[0mvalue\u001b[0m \u001b[0;32mnot\u001b[0m \u001b[0;32min\u001b[0m \u001b[0mself\u001b[0m\u001b[0;34m.\u001b[0m\u001b[0mcategories\u001b[0m\u001b[0;34m:\u001b[0m\u001b[0;34m\u001b[0m\u001b[0m\n\u001b[0;32m-> 1756\u001b[0;31m                     \u001b[0;32mraise\u001b[0m \u001b[0mValueError\u001b[0m\u001b[0;34m(\u001b[0m\u001b[0;34m\"fill value must be in categories\"\u001b[0m\u001b[0;34m)\u001b[0m\u001b[0;34m\u001b[0m\u001b[0m\n\u001b[0m\u001b[1;32m   1757\u001b[0m \u001b[0;34m\u001b[0m\u001b[0m\n\u001b[1;32m   1758\u001b[0m                 \u001b[0mmask\u001b[0m \u001b[0;34m=\u001b[0m \u001b[0mvalues\u001b[0m \u001b[0;34m==\u001b[0m \u001b[0;34m-\u001b[0m\u001b[0;36m1\u001b[0m\u001b[0;34m\u001b[0m\u001b[0m\n",
      "\u001b[0;31mValueError\u001b[0m: fill value must be in categories"
     ]
    }
   ],
   "source": [
    "# fill nan values with blank\n",
    "sliceDf.fillna('',inplace=True)"
   ]
  },
  {
   "cell_type": "code",
   "execution_count": null,
   "metadata": {},
   "outputs": [],
   "source": []
  }
 ],
 "metadata": {
  "kernelspec": {
   "display_name": "Python 3",
   "language": "python",
   "name": "python3"
  },
  "language_info": {
   "codemirror_mode": {
    "name": "ipython",
    "version": 3
   },
   "file_extension": ".py",
   "mimetype": "text/x-python",
   "name": "python",
   "nbconvert_exporter": "python",
   "pygments_lexer": "ipython3",
   "version": "3.6.5"
  }
 },
 "nbformat": 4,
 "nbformat_minor": 2
}
