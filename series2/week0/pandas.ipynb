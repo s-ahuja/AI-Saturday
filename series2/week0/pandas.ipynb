{
 "cells": [
  {
   "cell_type": "code",
   "execution_count": 40,
   "metadata": {},
   "outputs": [
    {
     "name": "stdout",
     "output_type": "stream",
     "text": [
      "(0, 0)\n"
     ]
    }
   ],
   "source": [
    "import pandas as pd\n",
    "df = pd.DataFrame()\n",
    "print (df.shape)"
   ]
  },
  {
   "cell_type": "code",
   "execution_count": 41,
   "metadata": {},
   "outputs": [
    {
     "data": {
      "text/html": [
       "<div>\n",
       "<style scoped>\n",
       "    .dataframe tbody tr th:only-of-type {\n",
       "        vertical-align: middle;\n",
       "    }\n",
       "\n",
       "    .dataframe tbody tr th {\n",
       "        vertical-align: top;\n",
       "    }\n",
       "\n",
       "    .dataframe thead th {\n",
       "        text-align: right;\n",
       "    }\n",
       "</style>\n",
       "<table border=\"1\" class=\"dataframe\">\n",
       "  <thead>\n",
       "    <tr style=\"text-align: right;\">\n",
       "      <th></th>\n",
       "      <th>column1</th>\n",
       "    </tr>\n",
       "  </thead>\n",
       "  <tbody>\n",
       "    <tr>\n",
       "      <th>0</th>\n",
       "      <td>1</td>\n",
       "    </tr>\n",
       "    <tr>\n",
       "      <th>1</th>\n",
       "      <td>2</td>\n",
       "    </tr>\n",
       "    <tr>\n",
       "      <th>2</th>\n",
       "      <td>5</td>\n",
       "    </tr>\n",
       "  </tbody>\n",
       "</table>\n",
       "</div>"
      ],
      "text/plain": [
       "   column1\n",
       "0        1\n",
       "1        2\n",
       "2        5"
      ]
     },
     "execution_count": 41,
     "metadata": {},
     "output_type": "execute_result"
    }
   ],
   "source": [
    "# assign a list to a dataframe column\n",
    "list = [1,2,5]\n",
    "df[\"column1\"] = pd.Series(list).values\n",
    "df"
   ]
  },
  {
   "cell_type": "code",
   "execution_count": 42,
   "metadata": {},
   "outputs": [
    {
     "data": {
      "text/html": [
       "<div>\n",
       "<style scoped>\n",
       "    .dataframe tbody tr th:only-of-type {\n",
       "        vertical-align: middle;\n",
       "    }\n",
       "\n",
       "    .dataframe tbody tr th {\n",
       "        vertical-align: top;\n",
       "    }\n",
       "\n",
       "    .dataframe thead th {\n",
       "        text-align: right;\n",
       "    }\n",
       "</style>\n",
       "<table border=\"1\" class=\"dataframe\">\n",
       "  <thead>\n",
       "    <tr style=\"text-align: right;\">\n",
       "      <th></th>\n",
       "      <th>name</th>\n",
       "      <th>age</th>\n",
       "    </tr>\n",
       "  </thead>\n",
       "  <tbody>\n",
       "    <tr>\n",
       "      <th>0</th>\n",
       "      <td>A</td>\n",
       "      <td>10</td>\n",
       "    </tr>\n",
       "    <tr>\n",
       "      <th>1</th>\n",
       "      <td>B</td>\n",
       "      <td>15</td>\n",
       "    </tr>\n",
       "    <tr>\n",
       "      <th>2</th>\n",
       "      <td>C</td>\n",
       "      <td>21</td>\n",
       "    </tr>\n",
       "  </tbody>\n",
       "</table>\n",
       "</div>"
      ],
      "text/plain": [
       "  name  age\n",
       "0    A   10\n",
       "1    B   15\n",
       "2    C   21"
      ]
     },
     "execution_count": 42,
     "metadata": {},
     "output_type": "execute_result"
    }
   ],
   "source": [
    "# instantiate dataframe from a dictionary object\n",
    "dict = {}\n",
    "dict[\"name\"]=[\"A\",\"B\",\"C\"]\n",
    "dict[\"age\"]=[10,15,21]\n",
    "df = pd.DataFrame(dict)\n",
    "df"
   ]
  },
  {
   "cell_type": "code",
   "execution_count": 43,
   "metadata": {},
   "outputs": [],
   "source": [
    "# export dataframe to csv, bz2\n",
    "import os\n",
    "directory = \"export\"\n",
    "if not os.path.exists(directory):\n",
    "    os.makedirs(directory)    # will create directory if it doesnt exist\n",
    "file_name = os.path.join(\"df_export.bz2\")\n",
    "df.to_csv(file_name, index=False, compression='bz2') #export to csv with bz2 compression, ascii format\n",
    "df.to_csv(\"df_export.csv\", index=False) #export to csv with bz2 compression, ascii format"
   ]
  },
  {
   "cell_type": "code",
   "execution_count": 44,
   "metadata": {},
   "outputs": [
    {
     "data": {
      "text/plain": [
       "['guava', 'melon']"
      ]
     },
     "execution_count": 44,
     "metadata": {},
     "output_type": "execute_result"
    }
   ],
   "source": [
    "# filtering List based on another List\n",
    "fullList = [\"apple\",\"orange\",\"guava\",\"melon\"]\n",
    "ignoreList= [\"apple\",\"orange\"]\n",
    "filteredList = [item for item in fullList if item not in ignoreList]\n",
    "filteredList"
   ]
  },
  {
   "cell_type": "code",
   "execution_count": 45,
   "metadata": {},
   "outputs": [
    {
     "name": "stdout",
     "output_type": "stream",
     "text": [
      "0\n",
      "2\n",
      "4\n",
      "6\n",
      "8\n"
     ]
    }
   ],
   "source": [
    "# for loop\n",
    "for i in range(0, 10, 2):\n",
    "    print(i)"
   ]
  },
  {
   "cell_type": "code",
   "execution_count": 46,
   "metadata": {},
   "outputs": [],
   "source": [
    "# exporting a json in utf-8\n",
    "import io\n",
    "import json\n",
    "exportFile=\"sample.json\"\n",
    "dictVariable = {}\n",
    "dictVariable[\"name\"]=[\"A\",\"B\",\"C\"]\n",
    "dictVariable[\"age\"]=[10,15,21]\n",
    "with io.open(exportFile, 'w', encoding='utf-8') as outfile:\n",
    "    #py 2.7\n",
    "    #fileContent = json.dumps(dictVariable,sort_keys=True,encoding='utf8',ensure_ascii=False)\n",
    "    #py 3.6\n",
    "    fileContent = json.dumps(dictVariable,sort_keys=True,ensure_ascii=False)\n",
    "    outfile.write(fileContent)"
   ]
  },
  {
   "cell_type": "code",
   "execution_count": 47,
   "metadata": {},
   "outputs": [
    {
     "name": "stdout",
     "output_type": "stream",
     "text": [
      "1.7014682292938232\n",
      "2\n"
     ]
    }
   ],
   "source": [
    "import time\n",
    "\n",
    "def timeDiffStr(startTime, endTime):\n",
    "    return str(int(round((endTime-startTime), 0)))\n",
    "\n",
    "startTime = time.time()\n",
    "time.sleep(1.7) #sleep for 1.7 seconds\n",
    "endTime = time.time()\n",
    "\n",
    "print (endTime-startTime)\n",
    "print(timeDiffStr(startTime,endTime)) #rounded value of time difference\n"
   ]
  },
  {
   "cell_type": "code",
   "execution_count": 50,
   "metadata": {},
   "outputs": [
    {
     "name": "stdout",
     "output_type": "stream",
     "text": [
      "  name  age\n",
      "0    A   10\n",
      "1    B   15\n",
      "2    C   21\n",
      "  Col:na  Col:a\n",
      "0      A     10\n",
      "1      B     15\n",
      "2      C     21\n"
     ]
    }
   ],
   "source": [
    "# dataframe rename columns \n",
    "print (df)\n",
    "df2 = df.rename(columns=lambda x: \"Col:\"+x[:-2], inplace=False) #renames columns based on col values\n",
    "print (df2)"
   ]
  },
  {
   "cell_type": "code",
   "execution_count": 52,
   "metadata": {},
   "outputs": [
    {
     "name": "stdout",
     "output_type": "stream",
     "text": [
      "OrderedDict([('Key1', 'Value1'), ('Key2', 'Value2')])\n"
     ]
    }
   ],
   "source": [
    "#OrderedDictionary\n",
    "import collections\n",
    "data = collections.OrderedDict()\n",
    "data['Key1'] = \"Value1\"\n",
    "data['Key2'] = \"Value2\"\n",
    "\n",
    "print (data)"
   ]
  },
  {
   "cell_type": "code",
   "execution_count": 54,
   "metadata": {},
   "outputs": [],
   "source": [
    "#Write to a file:\n",
    "filename=\"out2.json\"\n",
    "with open(filename, 'w') as outfile:\n",
    "    json.dump(data, outfile)"
   ]
  },
  {
   "cell_type": "code",
   "execution_count": 55,
   "metadata": {},
   "outputs": [
    {
     "name": "stdout",
     "output_type": "stream",
     "text": [
      "  name  age\n",
      "0    A   10\n",
      "1    B   15\n",
      "2    C   21\n",
      "['A', 'B', 'C']\n"
     ]
    }
   ],
   "source": [
    "#convert dataframe columns to list\n",
    "listOfValues = df[\"name\"].tolist()\n",
    "print (df)\n",
    "print (listOfValues)"
   ]
  },
  {
   "cell_type": "code",
   "execution_count": 56,
   "metadata": {},
   "outputs": [
    {
     "name": "stdout",
     "output_type": "stream",
     "text": [
      "  name  age\n",
      "0    A   10\n",
      "1    B   15\n",
      "2    C   21\n",
      "[{'name': 'A', 'age': 10}, {'name': 'B', 'age': 15}, {'name': 'C', 'age': 21}]\n"
     ]
    }
   ],
   "source": [
    "# convert a dataframe into dictionary as records\n",
    "dictionary = df.to_dict('records')\n",
    "print (df)\n",
    "print (dictionary)"
   ]
  },
  {
   "cell_type": "code",
   "execution_count": null,
   "metadata": {},
   "outputs": [],
   "source": [
    "# iterate through sub-directories\n",
    "rootPath = \"..\"\n",
    "for path, subdirs, files in os.walk(str(rootPath)):\n",
    "    print (\"Path={}\".format(path))\n",
    "    #print (subdirs)\n",
    "    for name in files:\n",
    "        print (\"{}File={}\".format(\"\\t\",name))"
   ]
  },
  {
   "cell_type": "code",
   "execution_count": 65,
   "metadata": {},
   "outputs": [
    {
     "name": "stdout",
     "output_type": "stream",
     "text": [
      "[{'name': 'A', 'age': 10}, {'name': 'B', 'age': 15}, {'name': 'C', 'age': 21}]\n"
     ]
    }
   ],
   "source": [
    "#iterating the dataframe by each row\n",
    "lists=[]\n",
    "for index,row in df.iterrows():\n",
    "    lists.append(row.to_dict()) #convert the row to a dictionary and add to a list\n",
    "print(lists)"
   ]
  },
  {
   "cell_type": "code",
   "execution_count": 66,
   "metadata": {},
   "outputs": [
    {
     "name": "stdout",
     "output_type": "stream",
     "text": [
      "All Processes are queued, let's see when they finish!\n",
      "I am Worker 4, I slept for 1 seconds\n",
      "I am Worker 2, I slept for 2 seconds\n",
      "I am Worker 0, I slept for 3 seconds\n",
      "I am Worker 3, I slept for 6 seconds\n",
      "I am Worker 1, I slept for 8 seconds\n"
     ]
    }
   ],
   "source": [
    "# using concurrency and parallelism - multiprocessing \n",
    "import multiprocessing\n",
    "import time\n",
    "import random\n",
    "\n",
    "def worker(number):\n",
    "    sleep = random.randrange(1, 10)\n",
    "    time.sleep(sleep)\n",
    "    print(\"I am Worker {}, I slept for {} seconds\".format(number, sleep))\n",
    "\n",
    "for i in range(5):\n",
    "    t = multiprocessing.Process(target=worker, args=(i,))\n",
    "    t.start()\n",
    "\n",
    "print(\"All Processes are queued, let's see when they finish!\")"
   ]
  },
  {
   "cell_type": "code",
   "execution_count": 67,
   "metadata": {},
   "outputs": [],
   "source": [
    "# dump json content with minimal separation space\n",
    "# fileContent = json.dumps(jsonData, sort_keys=False,ensure_ascii=False,indent=2,separators=(',', ':'))"
   ]
  },
  {
   "cell_type": "code",
   "execution_count": 74,
   "metadata": {},
   "outputs": [
    {
     "name": "stdout",
     "output_type": "stream",
     "text": [
      "name,age\n",
      "A,10\n",
      "B,15\n",
      "C,21\n",
      "\n"
     ]
    }
   ],
   "source": [
    "# read content from file\n",
    "filepath=\"../week0/df_export.csv\"\n",
    "fileObj = open(filepath, 'r')\n",
    "fileContent = fileObj.read()\n",
    "print (fileContent)"
   ]
  },
  {
   "cell_type": "code",
   "execution_count": 73,
   "metadata": {},
   "outputs": [
    {
     "name": "stdout",
     "output_type": "stream",
     "text": [
      "{'age': [10, 15, 21], 'name': ['A', 'B', 'C']}\n"
     ]
    }
   ],
   "source": [
    "# if its json data - you can load using json.loads to an object\n",
    "jsonFilePath=\"../week0/sample.json\"\n",
    "jsonFileObj = open(jsonFilePath, 'r')\n",
    "jsonData = json.loads(jsonFileObj.read())\n",
    "print (jsonData)"
   ]
  },
  {
   "cell_type": "code",
   "execution_count": 76,
   "metadata": {},
   "outputs": [
    {
     "data": {
      "text/html": [
       "<div>\n",
       "<style scoped>\n",
       "    .dataframe tbody tr th:only-of-type {\n",
       "        vertical-align: middle;\n",
       "    }\n",
       "\n",
       "    .dataframe tbody tr th {\n",
       "        vertical-align: top;\n",
       "    }\n",
       "\n",
       "    .dataframe thead th {\n",
       "        text-align: right;\n",
       "    }\n",
       "</style>\n",
       "<table border=\"1\" class=\"dataframe\">\n",
       "  <thead>\n",
       "    <tr style=\"text-align: right;\">\n",
       "      <th></th>\n",
       "      <th>name</th>\n",
       "      <th>age</th>\n",
       "      <th>&lt;col_name&gt;</th>\n",
       "    </tr>\n",
       "  </thead>\n",
       "  <tbody>\n",
       "    <tr>\n",
       "      <th>0</th>\n",
       "      <td>A</td>\n",
       "      <td>10</td>\n",
       "      <td>0</td>\n",
       "    </tr>\n",
       "    <tr>\n",
       "      <th>1</th>\n",
       "      <td>B</td>\n",
       "      <td>15</td>\n",
       "      <td>0</td>\n",
       "    </tr>\n",
       "    <tr>\n",
       "      <th>2</th>\n",
       "      <td>C</td>\n",
       "      <td>21</td>\n",
       "      <td>0</td>\n",
       "    </tr>\n",
       "  </tbody>\n",
       "</table>\n",
       "</div>"
      ],
      "text/plain": [
       "  name  age  <col_name>\n",
       "0    A   10           0\n",
       "1    B   15           0\n",
       "2    C   21           0"
      ]
     },
     "execution_count": 76,
     "metadata": {},
     "output_type": "execute_result"
    }
   ],
   "source": [
    "#add/update a new column name \"<col_name>\" and set all values as 0\n",
    "df['<col_name>'] = 0\n",
    "df"
   ]
  },
  {
   "cell_type": "code",
   "execution_count": 84,
   "metadata": {},
   "outputs": [
    {
     "name": "stdout",
     "output_type": "stream",
     "text": [
      "0    False\n",
      "1    False\n",
      "2     True\n",
      "Name: age, dtype: bool\n",
      "  name  age <col_name>\n",
      "0    A   10          0\n",
      "1    B   15          0\n",
      "2    C   21      Adult\n"
     ]
    }
   ],
   "source": [
    "# modify dataframe column value based on condition\n",
    "#for index, row in df.iterrows():\n",
    "    #int_age = int(row['age'])\n",
    "    #name = row['name']\n",
    "print (df['age'] >= 18)\n",
    "df.loc[(df['age'] >= 18) & (df['age'] <= 21),'<col_name>'] = 'Adult'\n",
    "print (df)\n"
   ]
  },
  {
   "cell_type": "code",
   "execution_count": 87,
   "metadata": {},
   "outputs": [],
   "source": [
    "# load excel object\n",
    "excelFilePath=\"../week0/SampleExcel.xlsx\"\n",
    "excelObject = pd.ExcelFile(excelFilePath)"
   ]
  },
  {
   "cell_type": "code",
   "execution_count": 88,
   "metadata": {},
   "outputs": [
    {
     "name": "stdout",
     "output_type": "stream",
     "text": [
      "       name  age sex\n",
      "0     aamir   45   M\n",
      "1  shahrukh   47   M\n",
      "2    preity   40   F\n",
      "3     kajol   42   F\n"
     ]
    }
   ],
   "source": [
    "# parse excel sheet into dataframe\n",
    "sheet1Df = excelObject.parse('Sheet1',keep_default_na=False, na_values='None')\n",
    "print (sheet1Df)"
   ]
  },
  {
   "cell_type": "code",
   "execution_count": 99,
   "metadata": {},
   "outputs": [
    {
     "name": "stdout",
     "output_type": "stream",
     "text": [
      "       name  age sex\n",
      "0     aamir   45   M\n",
      "1  shahrukh   47   M\n",
      "2    preity   40   F\n",
      "3     kajol   42   F\n"
     ]
    }
   ],
   "source": [
    "# rename dataframe columns\n",
    "sheet1Df.rename(columns=lambda x: x.replace('.','_').strip(),inplace=True)\n",
    "print (sheet1Df)"
   ]
  },
  {
   "cell_type": "code",
   "execution_count": 100,
   "metadata": {},
   "outputs": [
    {
     "name": "stdout",
     "output_type": "stream",
     "text": [
      "aamir\n"
     ]
    }
   ],
   "source": [
    "# get element in dataframe first row, first column\n",
    "print(sheet1Df.iloc[0][0])"
   ]
  },
  {
   "cell_type": "code",
   "execution_count": 108,
   "metadata": {},
   "outputs": [
    {
     "name": "stdout",
     "output_type": "stream",
     "text": [
      "{'age': 45}\n"
     ]
    }
   ],
   "source": [
    "# get dataframe's first row and from 2nd column till n-1 columns -> and then convert to dictionary\n",
    "print(sheet1Df.iloc[0][1:-1].to_dict())"
   ]
  },
  {
   "cell_type": "code",
   "execution_count": 109,
   "metadata": {},
   "outputs": [
    {
     "name": "stdout",
     "output_type": "stream",
     "text": [
      "       name  age sex\n",
      "1  shahrukh   47   M\n",
      "2    preity   40   F\n",
      "3     kajol   42   F\n"
     ]
    }
   ],
   "source": [
    "# dataframe remove first row\n",
    "sheet1Df_modified = sheet1Df.drop(0,axis=0,inplace=False)\n",
    "print (sheet1Df_modified)"
   ]
  },
  {
   "cell_type": "code",
   "execution_count": 113,
   "metadata": {},
   "outputs": [
    {
     "name": "stdout",
     "output_type": "stream",
     "text": [
      "name\n"
     ]
    }
   ],
   "source": [
    "# find a column name in dataframe that has a substring in column name\n",
    "# [0] repreents get the first value if multiple matches are found\n",
    "columnName = [col for col in sheet1Df.columns if 'NAM'.upper() in col.upper()][0]\n",
    "print(columnName)"
   ]
  },
  {
   "cell_type": "code",
   "execution_count": 137,
   "metadata": {},
   "outputs": [
    {
     "name": "stdout",
     "output_type": "stream",
     "text": [
      "{'F', 'M'}\n",
      "['F', 'M']\n"
     ]
    }
   ],
   "source": [
    "# get unique list of value from iloc[<all_rows>:<3rd col>]\n",
    "# get unique list of values from column name\n",
    "uniqueSexes = set(sheet1Df.iloc[:,2].tolist())\n",
    "uniqueSexesListOption2 = sorted((set((sheet1Df['sex']).tolist())))\n",
    "print (uniqueSexes)\n",
    "print (uniqueSexesListOption2)"
   ]
  },
  {
   "cell_type": "code",
   "execution_count": 134,
   "metadata": {},
   "outputs": [
    {
     "name": "stdout",
     "output_type": "stream",
     "text": [
      "       name  age sex\n",
      "0     aamir   45   M\n",
      "1  shahrukh   47   M\n",
      "2    preity   40   F\n",
      "3     kajol   42   F\n",
      "    name  age sex\n",
      "0  aamir   45   M\n"
     ]
    }
   ],
   "source": [
    "# slice a dataframe based on a column's value\n",
    "print (sheet1Df)\n",
    "slicedDf = sheet1Df.loc[(sheet1Df['age'] == 45)]\n",
    "print (slicedDf)"
   ]
  },
  {
   "cell_type": "code",
   "execution_count": 142,
   "metadata": {},
   "outputs": [
    {
     "name": "stdout",
     "output_type": "stream",
     "text": [
      "       name  age sex\n",
      "0     aamir   45   M\n",
      "1  shahrukh   47   M\n",
      "2    preity   40   F\n",
      "3     kajol   42   F\n",
      "\n",
      "       name  age sex\n",
      "0     aamir   45   M\n",
      "1  shahrukh   47   M\n",
      "2    preity   40   F\n",
      "3     kajol   42   F\n",
      "  sex\n",
      "0   M\n",
      "1   M\n",
      "2   F\n",
      "3   F\n"
     ]
    }
   ],
   "source": [
    "#drop first 2 columns of dataframe\n",
    "sheet2Df = sheet1Df.copy(deep=True)\n",
    "print(sheet1Df)\n",
    "print()\n",
    "print(sheet2Df)\n",
    "sheet3Df = sheet2Df.drop(sheet2Df.iloc[:, 0:2], inplace=False, axis=1)\n",
    "print (sheet3Df)"
   ]
  },
  {
   "cell_type": "code",
   "execution_count": 145,
   "metadata": {},
   "outputs": [
    {
     "name": "stdout",
     "output_type": "stream",
     "text": [
      "       name  age sex\n",
      "0     aamir   45   M\n",
      "1  shahrukh   47   M\n"
     ]
    }
   ],
   "source": [
    "# delete dataframe rows, truncate, after row 2 \n",
    "sheet2Df = sheet1Df.truncate(after=1)\n",
    "print (sheet2Df)"
   ]
  },
  {
   "cell_type": "code",
   "execution_count": 165,
   "metadata": {},
   "outputs": [
    {
     "name": "stdout",
     "output_type": "stream",
     "text": [
      "       name  age sex\n",
      "0     aamir   45   M\n",
      "1  shahrukh   47   M\n",
      "2    preity   40   F\n",
      "3     kajol   42   F\n",
      "True\n",
      "False\n"
     ]
    }
   ],
   "source": [
    "# check if string is a number\n",
    "print(sheet1Df)\n",
    "age = str(sheet1Df.iloc[0,1])\n",
    "print (age.isdigit())\n",
    "print ('5.5600'.isdigit())"
   ]
  },
  {
   "cell_type": "code",
   "execution_count": null,
   "metadata": {},
   "outputs": [],
   "source": []
  }
 ],
 "metadata": {
  "kernelspec": {
   "display_name": "Python 3",
   "language": "python",
   "name": "python3"
  },
  "language_info": {
   "codemirror_mode": {
    "name": "ipython",
    "version": 3
   },
   "file_extension": ".py",
   "mimetype": "text/x-python",
   "name": "python",
   "nbconvert_exporter": "python",
   "pygments_lexer": "ipython3",
   "version": "3.6.5"
  }
 },
 "nbformat": 4,
 "nbformat_minor": 2
}
