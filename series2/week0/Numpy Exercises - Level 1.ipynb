{
 "cells": [
  {
   "cell_type": "code",
   "execution_count": 1,
   "metadata": {},
   "outputs": [],
   "source": [
    "import numpy as np;"
   ]
  },
  {
   "cell_type": "code",
   "execution_count": 18,
   "metadata": {},
   "outputs": [
    {
     "name": "stdout",
     "output_type": "stream",
     "text": [
      "1.14.3\n",
      "1.14.3\n",
      "blas_mkl_info:\n",
      "  NOT AVAILABLE\n",
      "blis_info:\n",
      "  NOT AVAILABLE\n",
      "openblas_info:\n",
      "  NOT AVAILABLE\n",
      "atlas_3_10_blas_threads_info:\n",
      "  NOT AVAILABLE\n",
      "atlas_3_10_blas_info:\n",
      "  NOT AVAILABLE\n",
      "atlas_blas_threads_info:\n",
      "  NOT AVAILABLE\n",
      "atlas_blas_info:\n",
      "  NOT AVAILABLE\n",
      "blas_opt_info:\n",
      "    extra_compile_args = ['-msse3', '-I/System/Library/Frameworks/vecLib.framework/Headers']\n",
      "    extra_link_args = ['-Wl,-framework', '-Wl,Accelerate']\n",
      "    define_macros = [('NO_ATLAS_INFO', 3), ('HAVE_CBLAS', None)]\n",
      "lapack_mkl_info:\n",
      "  NOT AVAILABLE\n",
      "openblas_lapack_info:\n",
      "  NOT AVAILABLE\n",
      "openblas_clapack_info:\n",
      "  NOT AVAILABLE\n",
      "atlas_3_10_threads_info:\n",
      "  NOT AVAILABLE\n",
      "atlas_3_10_info:\n",
      "  NOT AVAILABLE\n",
      "atlas_threads_info:\n",
      "  NOT AVAILABLE\n",
      "atlas_info:\n",
      "  NOT AVAILABLE\n",
      "lapack_opt_info:\n",
      "    extra_compile_args = ['-msse3']\n",
      "    extra_link_args = ['-Wl,-framework', '-Wl,Accelerate']\n",
      "    define_macros = [('NO_ATLAS_INFO', 3), ('HAVE_CBLAS', None)]\n",
      "None\n"
     ]
    }
   ],
   "source": [
    "# Print the numpy version and the configuration\n",
    "print(np.version.version)\n",
    "print(np.__version__)\n",
    "print(np.show_config())"
   ]
  },
  {
   "cell_type": "code",
   "execution_count": 24,
   "metadata": {},
   "outputs": [
    {
     "data": {
      "text/plain": [
       "array([10, 11, 12, 13, 14, 15, 16, 17, 18, 19, 20, 21, 22, 23, 24, 25, 26,\n",
       "       27, 28, 29, 30, 31, 32, 33, 34, 35, 36, 37, 38, 39, 40, 41, 42, 43,\n",
       "       44, 45, 46, 47, 48, 49])"
      ]
     },
     "execution_count": 24,
     "metadata": {},
     "output_type": "execute_result"
    }
   ],
   "source": [
    "# Create a vector with values ranging from 10 to 49\n",
    "np.arange(10,50)"
   ]
  },
  {
   "cell_type": "code",
   "execution_count": 27,
   "metadata": {},
   "outputs": [
    {
     "name": "stdout",
     "output_type": "stream",
     "text": [
      "[[0 1 2]\n",
      " [3 4 5]\n",
      " [6 7 8]]\n"
     ]
    }
   ],
   "source": [
    "# Create a 3x3 matrix with values ranging from 0 to 8\n",
    "x = np.arange(0,9)\n",
    "y = x.reshape(3,3)\n",
    "print (y)"
   ]
  },
  {
   "cell_type": "code",
   "execution_count": 32,
   "metadata": {},
   "outputs": [
    {
     "name": "stdout",
     "output_type": "stream",
     "text": [
      "[0 1 2 3 4 5 6 7 8 9]\n",
      "[9 8 7 6 5 4 3 2 1 0]\n",
      "[9 8 7 6 5 4 3 2 1 0]\n"
     ]
    }
   ],
   "source": [
    "# Reverse a vector (first element becomes last)\n",
    "x = np.arange(0, 10)\n",
    "y = np.flip(x, axis=0) #requires axis\n",
    "z = np.flipud(x) #same you can use .fliplr() left-right\n",
    "print (x)\n",
    "print (y)\n",
    "print (z)"
   ]
  },
  {
   "cell_type": "code",
   "execution_count": 47,
   "metadata": {},
   "outputs": [
    {
     "name": "stdout",
     "output_type": "stream",
     "text": [
      "[[2.88473667 9.39642715 1.60958667 6.41263243 0.97202938 6.57528404\n",
      "  9.26650336 4.04908799 4.69589245 1.18147397]\n",
      " [8.4710131  0.2062708  8.63085846 9.98997288 6.47292825 1.59885474\n",
      "  7.94929764 0.26496962 4.56498802 4.25497541]\n",
      " [7.53008212 1.78967584 4.90550085 3.46828536 0.24619802 5.97729016\n",
      "  2.21582357 9.922954   4.11456829 6.18794032]\n",
      " [4.49004897 8.15032006 9.81427073 1.439767   5.534838   9.51398724\n",
      "  1.45436464 0.96277098 3.15053631 6.44021899]\n",
      " [9.63728431 5.66062813 1.23801601 0.97783476 0.09249144 9.34250922\n",
      "  5.2997944  9.35229331 4.09150524 3.048213  ]\n",
      " [1.09079541 4.35866221 7.91263629 7.08466382 8.69498572 4.13463119\n",
      "  7.65497928 7.20698232 7.50245241 7.33520272]\n",
      " [1.98506293 4.62717549 1.97377408 7.14988601 1.88034635 2.28262152\n",
      "  3.09098709 2.82114239 2.73819563 3.26418837]\n",
      " [9.61687595 7.36533571 9.59269159 7.73692853 2.83336846 5.8295906\n",
      "  3.14447363 3.18326433 0.55447604 4.57637338]\n",
      " [0.86747011 8.52116441 6.34010788 5.4303464  9.61577676 3.75359442\n",
      "  5.78344397 5.98267627 9.58985537 7.98735127]\n",
      " [9.0459725  4.80196861 4.3957581  1.92525383 3.24313731 5.09626371\n",
      "  4.78078318 1.4537168  1.50645911 3.72864976]]\n",
      "[[-0.15238608 -0.06588019  0.60060291  0.68962873  0.74232013  0.66463244\n",
      "   1.25376026 -0.99878104 -1.28615967  0.88273197]\n",
      " [ 0.32921721  0.12581664 -0.5093913  -0.72580728  1.94471675  0.33745538\n",
      "   1.84270408  0.2497134   0.62503293 -1.06687828]\n",
      " [-0.07638185  2.35933265  0.48761045 -0.0304419   0.07534797 -0.02309644\n",
      "  -1.34843371 -1.2106119  -1.82071951 -0.46353903]\n",
      " [-0.91129756  0.49281264 -0.85607719 -0.63965568 -0.28318094  0.59179887\n",
      "   0.77126954  0.93643659  0.00568306  0.40919194]\n",
      " [ 0.59587279 -0.08262899  1.23544932 -1.20990602  0.68770846 -0.17773882\n",
      "  -0.28029817  0.15163791 -0.20779625 -1.05324546]\n",
      " [ 0.25883262 -0.83447183  0.54678811 -0.29803279 -0.45095623 -0.69566261\n",
      "   2.07042775  1.14592454  0.87259983  0.12814127]\n",
      " [ 1.03270929  0.79360571 -2.16205372 -0.04357165  0.50073387 -1.30229557\n",
      "   0.02584506  1.39457565 -0.01339966  0.80441671]\n",
      " [ 1.50358225 -2.06406932 -0.93807022  0.6636101  -1.70464366 -0.10316171\n",
      "   0.70645693 -1.18142977 -1.81780037 -0.16257811]\n",
      " [-1.70279662  0.40523141 -0.0404431   1.05360574  0.51369536  0.85318036\n",
      "   3.45361131 -0.2778618   1.76656949  0.34910634]\n",
      " [ 0.37075148 -0.71255222  0.35383599  0.63552004  1.59991439 -0.29033746\n",
      "  -0.80917609  0.08909823 -0.33117227  1.96289195]]\n",
      "3.453611305976681 -2.162053722844564\n",
      "[1 2 3 4 2 4 2 1 3 3]\n"
     ]
    }
   ],
   "source": [
    "# Create a 10x10 array with random values and find the minimum and maximum values\n",
    "x = 10 * np.random.random((10,10)) # creates 10 x 10 matrix with values between 0 and 1\n",
    "print (x)\n",
    "arr = np.random.randn(10,10)\n",
    "print(arr)\n",
    "print (arr.max(),arr.min())\n",
    "z = np.random.randint(1,5,10) # just returns integers with low, high and size\n",
    "print (z)"
   ]
  },
  {
   "cell_type": "code",
   "execution_count": 66,
   "metadata": {
    "scrolled": true
   },
   "outputs": [
    {
     "name": "stdout",
     "output_type": "stream",
     "text": [
      "[-1.07122158 -1.35358607  0.93289995  0.6771103   0.41034194  0.33097167\n",
      " -1.50656869  0.19452751 -0.4840283   0.81599577]\n",
      "max value at location:2\n",
      "min value at location:6\n"
     ]
    }
   ],
   "source": [
    "# Create random vector of size 10 and replace the maximum value by 0\n",
    "\n",
    "vector = np.random.randn(10)\n",
    "print (vector)\n",
    "print (\"max value at location:\" + str(np.nanargmax(vector,0))) #nanargmax\n",
    "print ('min value at location:' + str(np.argmin(vector,0))) #nanargmin"
   ]
  },
  {
   "cell_type": "code",
   "execution_count": 71,
   "metadata": {},
   "outputs": [
    {
     "name": "stdout",
     "output_type": "stream",
     "text": [
      "[0.58658815 0.44099478 0.20002273 0.77507662 0.83681503 0.74525774\n",
      " 0.68647037 0.45372951 0.84177576 0.5009998 ]\n"
     ]
    }
   ],
   "source": [
    "# Create a vector of size 10 with values ranging from 0 to 1, both excluded\n",
    "# https://docs.scipy.org/doc/numpy-1.14.1/reference/routines.random.html\n",
    "x = np.random.rand(10)\n",
    "print (x)"
   ]
  },
  {
   "cell_type": "code",
   "execution_count": 87,
   "metadata": {},
   "outputs": [
    {
     "name": "stdout",
     "output_type": "stream",
     "text": [
      "[0.77875342 0.46124881 0.65343119 0.40425923 0.21417087 0.05892269\n",
      " 0.47380473 0.42235508 0.94219568 0.73576651 0.37630402 0.68754127\n",
      " 0.6124605  0.55363192 0.64964361 0.67373387 0.3557765  0.44781631\n",
      " 0.16184145 0.72702786 0.24528957 0.44702114 0.48163762 0.83103715\n",
      " 0.24655585 0.49404077 0.2339575  0.05626445 0.50277181 0.12747848]\n",
      "0.468557995170898\n",
      "CPU times: user 74 µs, sys: 6 µs, total: 80 µs\n",
      "Wall time: 84.9 µs\n",
      "0.468557995170898\n",
      "CPU times: user 72 µs, sys: 13 µs, total: 85 µs\n",
      "Wall time: 87.7 µs\n"
     ]
    }
   ],
   "source": [
    "# Create a random vector of size 30 and find the mean value\n",
    "x = np.random.rand(30)\n",
    "print (x)\n",
    "%time print (np.mean(x))\n",
    "%time print (x.mean())"
   ]
  },
  {
   "cell_type": "code",
   "execution_count": 82,
   "metadata": {},
   "outputs": [
    {
     "name": "stdout",
     "output_type": "stream",
     "text": [
      "[0.07741872 0.88661681 0.76422565 0.84308637 0.9515836  0.41946376\n",
      " 0.31043657 0.51665344 0.05644125 0.55049339]\n",
      "[0.05644125 0.07741872 0.31043657 0.41946376 0.51665344 0.55049339\n",
      " 0.76422565 0.84308637 0.88661681 0.9515836 ]\n"
     ]
    }
   ],
   "source": [
    "# Create a random vector of size 10 and sort it\n",
    "x=np.random.rand(10)\n",
    "y=np.sort(x)\n",
    "print (x)\n",
    "print (y)\n"
   ]
  },
  {
   "cell_type": "code",
   "execution_count": 103,
   "metadata": {},
   "outputs": [
    {
     "name": "stdout",
     "output_type": "stream",
     "text": [
      "4950\n",
      "CPU times: user 201 µs, sys: 95 µs, total: 296 µs\n",
      "Wall time: 245 µs\n",
      "4950\n",
      "CPU times: user 56 µs, sys: 5 µs, total: 61 µs\n",
      "Wall time: 66 µs\n"
     ]
    }
   ],
   "source": [
    "# How to sum a small array faster than np.sum? \n",
    "Z = np.arange(100)\n",
    "%time print(np.sum(Z)) #slower in small arrays\n",
    "%time print(sum(Z)) #slower in large arrays"
   ]
  },
  {
   "cell_type": "code",
   "execution_count": 108,
   "metadata": {},
   "outputs": [
    {
     "name": "stdout",
     "output_type": "stream",
     "text": [
      "[False False  True  True  True]\n",
      "CPU times: user 559 µs, sys: 781 µs, total: 1.34 ms\n",
      "Wall time: 1.22 ms\n",
      "False\n",
      "CPU times: user 81 µs, sys: 47 µs, total: 128 µs\n",
      "Wall time: 133 µs\n"
     ]
    }
   ],
   "source": [
    "# Consider two random array A anb B, check if they are equal\n",
    "\n",
    "A = np.random.randint(0,2,5)\n",
    "B = np.random.randint(0,2,5)\n",
    "\n",
    "%time print (A==B)\n",
    "%time print (np.array_equal(A,B))"
   ]
  },
  {
   "cell_type": "code",
   "execution_count": 122,
   "metadata": {},
   "outputs": [
    {
     "name": "stdout",
     "output_type": "stream",
     "text": [
      "[[5 5 3]\n",
      " [7 1 2]\n",
      " [0 3 1]]\n",
      "[[0 3 1]\n",
      " [5 5 3]\n",
      " [7 1 2]]\n"
     ]
    }
   ],
   "source": [
    "# How to I sort an array by the nth column?\n",
    "# https://stackoverflow.com/questions/2828059/sorting-arrays-in-numpy-by-column\n",
    "Z = np.random.randint(0,10,(3,3))\n",
    "print(Z)\n",
    "print(Z[Z[:,0].argsort()])"
   ]
  },
  {
   "cell_type": "code",
   "execution_count": 152,
   "metadata": {},
   "outputs": [
    {
     "name": "stdout",
     "output_type": "stream",
     "text": [
      "[[1 2 0 0 2 2 1 1 0 0]\n",
      " [0 1 1 2 1 2 2 2 2 2]\n",
      " [1 2 2 0 2 0 1 0 1 2]]\n",
      "(3, 10)\n",
      "2\n",
      "False\n"
     ]
    },
    {
     "ename": "ValueError",
     "evalue": "cannot convert float NaN to integer",
     "output_type": "error",
     "traceback": [
      "\u001b[0;31m---------------------------------------------------------------------------\u001b[0m",
      "\u001b[0;31mValueError\u001b[0m                                Traceback (most recent call last)",
      "\u001b[0;32m<ipython-input-152-dd5b2cd4d4b8>\u001b[0m in \u001b[0;36m<module>\u001b[0;34m()\u001b[0m\n\u001b[1;32m      5\u001b[0m \u001b[0mprint\u001b[0m \u001b[0;34m(\u001b[0m\u001b[0mZ\u001b[0m\u001b[0;34m[\u001b[0m\u001b[0;36m0\u001b[0m\u001b[0;34m]\u001b[0m\u001b[0;34m[\u001b[0m\u001b[0;36m1\u001b[0m\u001b[0;34m]\u001b[0m\u001b[0;34m)\u001b[0m\u001b[0;34m\u001b[0m\u001b[0m\n\u001b[1;32m      6\u001b[0m \u001b[0mprint\u001b[0m\u001b[0;34m(\u001b[0m\u001b[0mnp\u001b[0m\u001b[0;34m.\u001b[0m\u001b[0misnan\u001b[0m\u001b[0;34m(\u001b[0m\u001b[0mZ\u001b[0m\u001b[0;34m)\u001b[0m\u001b[0;34m.\u001b[0m\u001b[0many\u001b[0m\u001b[0;34m(\u001b[0m\u001b[0;34m)\u001b[0m\u001b[0;34m)\u001b[0m\u001b[0;34m\u001b[0m\u001b[0m\n\u001b[0;32m----> 7\u001b[0;31m \u001b[0mZ\u001b[0m\u001b[0;34m[\u001b[0m\u001b[0;36m0\u001b[0m\u001b[0;34m]\u001b[0m\u001b[0;34m[\u001b[0m\u001b[0;36m1\u001b[0m\u001b[0;34m]\u001b[0m \u001b[0;34m=\u001b[0m \u001b[0mnp\u001b[0m\u001b[0;34m.\u001b[0m\u001b[0mnan\u001b[0m\u001b[0;34m\u001b[0m\u001b[0m\n\u001b[0m\u001b[1;32m      8\u001b[0m \u001b[0mprint\u001b[0m\u001b[0;34m(\u001b[0m\u001b[0mnp\u001b[0m\u001b[0;34m.\u001b[0m\u001b[0misnan\u001b[0m\u001b[0;34m(\u001b[0m\u001b[0mZ\u001b[0m\u001b[0;34m)\u001b[0m\u001b[0;34m.\u001b[0m\u001b[0many\u001b[0m\u001b[0;34m(\u001b[0m\u001b[0;34m)\u001b[0m\u001b[0;34m)\u001b[0m\u001b[0;34m\u001b[0m\u001b[0m\n",
      "\u001b[0;31mValueError\u001b[0m: cannot convert float NaN to integer"
     ]
    }
   ],
   "source": [
    "# How to tell if a given 2D array has null columns?\n",
    "Z = np.random.randint(0,3,(3,10))\n",
    "print(Z)\n",
    "print (Z.shape)\n",
    "print (Z[0][1])\n",
    "print(np.isnan(Z).any())\n",
    "Z[0][1] = np.nan\n",
    "print(np.isnan(Z).any())"
   ]
  },
  {
   "cell_type": "code",
   "execution_count": null,
   "metadata": {},
   "outputs": [],
   "source": [
    "# Consider an array of dimension (5,5,3), how to mulitply it by an array with dimensions (5,5)?\n",
    "\n",
    "A = np.ones((5,5,3))\n",
    "B = 2*np.ones((5,5))"
   ]
  },
  {
   "cell_type": "code",
   "execution_count": null,
   "metadata": {},
   "outputs": [],
   "source": [
    "# Swap two rows of an array? \n",
    "\n",
    "A = np.arange(25).reshape(5,5)\n"
   ]
  },
  {
   "cell_type": "markdown",
   "metadata": {},
   "source": [
    "# Special Data types\n",
    "\n",
    "In addition to dtype objects, NumPy introduces special numeric values: nan (not a number) and inf(infinity)"
   ]
  },
  {
   "cell_type": "code",
   "execution_count": null,
   "metadata": {},
   "outputs": [],
   "source": [
    "What is the result of the following expression? \n",
    "\n",
    "0 * np.nan\n",
    "np.nan == np.nan\n",
    "np.inf > np.nan\n",
    "np.nan - np.nan\n",
    "0.3 == 3 * 0.1"
   ]
  }
 ],
 "metadata": {
  "kernelspec": {
   "display_name": "Python 3",
   "language": "python",
   "name": "python3"
  },
  "language_info": {
   "codemirror_mode": {
    "name": "ipython",
    "version": 3
   },
   "file_extension": ".py",
   "mimetype": "text/x-python",
   "name": "python",
   "nbconvert_exporter": "python",
   "pygments_lexer": "ipython3",
   "version": "3.6.5"
  }
 },
 "nbformat": 4,
 "nbformat_minor": 2
}
